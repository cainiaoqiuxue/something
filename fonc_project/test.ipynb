{
 "cells": [
  {
   "cell_type": "code",
   "execution_count": null,
   "metadata": {},
   "outputs": [],
   "source": [
    "import numpy as np\n",
    "import pandas as pd\n",
    "from sklearn.preprocessing import StandardScaler\n",
    "from sklearn.metrics import r2_score\n",
    "from src.model import CNNModel, Config"
   ]
  },
  {
   "cell_type": "code",
   "execution_count": null,
   "metadata": {},
   "outputs": [],
   "source": [
    "df = pd.read_csv('data/housing.csv', header=None, sep='\\s+') \n",
    "df.columns = ['CRIM', 'ZN', 'INDUS', 'CHAS', 'NOX', 'RM', 'AGE', 'DIS', 'RAD', 'TAX', 'PTRATIO', 'B', 'LSTAT', 'MEDV']\n",
    "x = df.iloc[:, :-1].values\n",
    "y = df.iloc[:, -1].values\n",
    "x = StandardScaler().fit_transform(x)\n",
    "cfg = Config(alpha=0.5, input_size=x.shape[1], output_size=1, learning_rate=0.05)\n",
    "cnn = CNNModel(cfg, x, y)"
   ]
  },
  {
   "cell_type": "code",
   "execution_count": null,
   "metadata": {},
   "outputs": [],
   "source": [
    "cnn.load('data')"
   ]
  },
  {
   "cell_type": "code",
   "execution_count": null,
   "metadata": {},
   "outputs": [],
   "source": [
    "r2_score(y, cnn.predict(x).reshape(-1))"
   ]
  },
  {
   "cell_type": "code",
   "execution_count": null,
   "metadata": {},
   "outputs": [],
   "source": [
    "cnn.predict(x[0]).shape"
   ]
  },
  {
   "cell_type": "code",
   "execution_count": null,
   "metadata": {},
   "outputs": [],
   "source": []
  },
  {
   "cell_type": "code",
   "execution_count": null,
   "metadata": {},
   "outputs": [],
   "source": [
    "from src import Config, CNNModelRegressor\n",
    "from sklearn.model_selection import train_test_split\n",
    "\n",
    "import pandas as pd\n",
    "from sklearn.metrics import r2_score\n",
    "from sklearn.preprocessing import StandardScaler\n",
    "df = pd.read_csv('housing.csv', header=None, sep='\\s+') \n",
    "df.columns = ['CRIM', 'ZN', 'INDUS', 'CHAS', 'NOX', 'RM', 'AGE', 'DIS', 'RAD', 'TAX', 'PTRATIO', 'B', 'LSTAT', 'MEDV']\n",
    "x = df.iloc[:, :-1].values\n",
    "y = df.iloc[:, -1].values\n",
    "x = StandardScaler().fit_transform(x)\n",
    "\n",
    "train_x, test_x, train_y, test_y = train_test_split(x, y, test_size=0.2, random_state=42)\n",
    "\n",
    "cfg = Config(alpha=0.5, input_size=x.shape[1], output_size=1, learning_rate=0.08, hidden_size=20, kernel_size=13, padding_size=0)\n",
    "cnn = CNNModelRegressor(cfg, train_x, train_y)\n",
    "print('-' * 10, ' begin task ', '-' * 10)\n",
    "epochs = 1000\n",
    "for epoch in range(epochs):\n",
    "    print('update: {} / {}'.format(epoch + 1, epochs))\n",
    "    cnn.update(type='caputo')\n",
    "    print('train r2: ', r2_score(train_y, cnn.predict(train_x)))\n",
    "    print('test r2: ', r2_score(test_y, cnn.predict(test_x)))\n",
    "    # print('r2: ', r2_score(y, cnn.predict(x)))\n",
    "    \n",
    "\n",
    "# cnn.save_model('.')\n",
    "# cnn.train(100, 'caputo')"
   ]
  },
  {
   "cell_type": "code",
   "execution_count": null,
   "metadata": {},
   "outputs": [],
   "source": []
  },
  {
   "cell_type": "code",
   "execution_count": 1,
   "metadata": {},
   "outputs": [],
   "source": [
    "import pandas as pd\n",
    "import numpy as np\n",
    "from sklearn.preprocessing import OneHotEncoder\n",
    "from src.classifier import CNNModelClassifier, Config\n",
    "from sklearn.metrics import accuracy_score"
   ]
  },
  {
   "cell_type": "code",
   "execution_count": 2,
   "metadata": {},
   "outputs": [],
   "source": [
    "oe = OneHotEncoder()\n",
    "df = pd.read_csv('mnist_test.csv')\n",
    "label = oe.fit_transform(df['label'].values.reshape(-1, 1))\n",
    "label = label.toarray()\n",
    "# x = df.iloc[:, 1:].values\n",
    "x = df.iloc[:, 1:].values / 255\n",
    "y = label\n",
    "\n",
    "oe = OneHotEncoder()\n",
    "train = pd.read_csv('mnist_train.csv')\n",
    "train_label = oe.fit_transform(train['label'].values.reshape(-1, 1))\n",
    "train_label = train_label.toarray()\n",
    "# x = df.iloc[:, 1:].values\n",
    "train_x = train.iloc[:, 1:].values / 255\n",
    "train_y = train_label"
   ]
  },
  {
   "cell_type": "code",
   "execution_count": 3,
   "metadata": {},
   "outputs": [],
   "source": [
    "cfg = Config(alpha=0.5, input_size=784, output_size=10, learning_rate=0.05, hidden_size=100, kernel_size=784, padding_size=0)\n",
    "cnn = CNNModelClassifier(cfg, train_x, train_y)"
   ]
  },
  {
   "cell_type": "code",
   "execution_count": 5,
   "metadata": {},
   "outputs": [],
   "source": [
    "# cnn.caputo_h2o_matrix().mean()"
   ]
  },
  {
   "cell_type": "code",
   "execution_count": null,
   "metadata": {},
   "outputs": [],
   "source": [
    "for i in range(500): \n",
    "    print('update: ', i)\n",
    "    cnn.update()\n",
    "    print(accuracy_score(train['label'].values, cnn.predict(train_x).argmax(axis=1)))\n",
    "    print(accuracy_score(df['label'].values, cnn.predict(x).argmax(axis=1)))"
   ]
  },
  {
   "cell_type": "code",
   "execution_count": 16,
   "metadata": {},
   "outputs": [],
   "source": [
    "a = cnn.caputo_h2o_matrix()"
   ]
  },
  {
   "cell_type": "code",
   "execution_count": 4,
   "metadata": {},
   "outputs": [],
   "source": [
    "w = np.load('param.npz')\n",
    "cnn.w1 = w['w1']\n",
    "cnn.w2 = w['w2']"
   ]
  },
  {
   "cell_type": "code",
   "execution_count": 5,
   "metadata": {},
   "outputs": [
    {
     "name": "stdout",
     "output_type": "stream",
     "text": [
      "[ 0.00727859 -0.02542827  1.03317372  0.06360823 -0.00707572  0.05050636\n",
      " -0.03116928  0.01058391 -0.04758252 -0.03967501]\n",
      "2\n"
     ]
    }
   ],
   "source": [
    "idx = 9995\n",
    "print(cnn.predict(x[idx]))\n",
    "print(cnn.predict(x[idx]).argmax())"
   ]
  },
  {
   "cell_type": "code",
   "execution_count": 6,
   "metadata": {},
   "outputs": [
    {
     "data": {
      "text/plain": [
       "array([7, 2, 1, ..., 4, 5, 6])"
      ]
     },
     "execution_count": 6,
     "metadata": {},
     "output_type": "execute_result"
    }
   ],
   "source": [
    "cnn.predict(x).argmax(axis=1)"
   ]
  },
  {
   "cell_type": "code",
   "execution_count": 7,
   "metadata": {},
   "outputs": [
    {
     "data": {
      "text/plain": [
       "0       7\n",
       "1       2\n",
       "2       1\n",
       "3       0\n",
       "4       4\n",
       "       ..\n",
       "9995    2\n",
       "9996    3\n",
       "9997    4\n",
       "9998    5\n",
       "9999    6\n",
       "Name: label, Length: 10000, dtype: int64"
      ]
     },
     "execution_count": 7,
     "metadata": {},
     "output_type": "execute_result"
    }
   ],
   "source": [
    "df['label']"
   ]
  },
  {
   "cell_type": "code",
   "execution_count": null,
   "metadata": {},
   "outputs": [],
   "source": [
    "from src.model_matirx import Config, CNNModelMatrix\n",
    "from sklearn.model_selection import train_test_split\n",
    "\n",
    "import pandas as pd\n",
    "from sklearn.metrics import r2_score\n",
    "from sklearn.preprocessing import StandardScaler\n",
    "df = pd.read_csv('housing.csv', header=None, sep='\\s+') \n",
    "df.columns = ['CRIM', 'ZN', 'INDUS', 'CHAS', 'NOX', 'RM', 'AGE', 'DIS', 'RAD', 'TAX', 'PTRATIO', 'B', 'LSTAT', 'MEDV']\n",
    "x = df.iloc[:, :-1].values\n",
    "y = df.iloc[:, -1].values\n",
    "x = StandardScaler().fit_transform(x)\n",
    "\n",
    "train_x, test_x, train_y, test_y = train_test_split(x, y, test_size=0.2, random_state=42)\n",
    "\n",
    "cfg = Config(alpha=0.5, input_size=x.shape[1], output_size=1, learning_rate=0.08, hidden_size=20, kernel_size=13, padding_size=0)\n",
    "cnn = CNNModelMatrix(cfg, train_x, train_y)\n",
    "print('-' * 10, ' begin task ', '-' * 10)\n",
    "epochs = 1000\n",
    "for epoch in range(epochs):\n",
    "    print('update: {} / {}'.format(epoch + 1, epochs))\n",
    "    cnn.update(type='caputo')\n",
    "    print('train r2: ', r2_score(train_y, cnn.predict(train_x)))\n",
    "    print('test r2: ', r2_score(test_y, cnn.predict(test_x)))\n",
    "    # print('r2: ', r2_score(y, cnn.predict(x)))"
   ]
  },
  {
   "cell_type": "code",
   "execution_count": null,
   "metadata": {},
   "outputs": [],
   "source": [
    "from src import Config, CNNModelRegressor\n",
    "from src.model_matirx import Config, CNNModelMatrix\n",
    "from sklearn.model_selection import train_test_split\n",
    "\n",
    "import pandas as pd\n",
    "from sklearn.metrics import r2_score\n",
    "from sklearn.preprocessing import StandardScaler\n",
    "df = pd.read_csv('housing.csv', header=None, sep='\\s+') \n",
    "df.columns = ['CRIM', 'ZN', 'INDUS', 'CHAS', 'NOX', 'RM', 'AGE', 'DIS', 'RAD', 'TAX', 'PTRATIO', 'B', 'LSTAT', 'MEDV']\n",
    "x = df.iloc[:, :-1].values\n",
    "y = df.iloc[:, -1].values\n",
    "x = StandardScaler().fit_transform(x)\n",
    "\n",
    "train_x, test_x, train_y, test_y = train_test_split(x, y, test_size=0.2, random_state=42)\n",
    "\n",
    "cfg = Config(alpha=0.5, input_size=x.shape[1], output_size=1, learning_rate=0.08, hidden_size=20, kernel_size=13, padding_size=0)\n",
    "cnn = CNNModelRegressor(cfg, train_x, train_y)\n",
    "cnn2 = CNNModelMatrix(cfg, train_x, train_y)\n",
    "print('-' * 10, ' begin task ', '-' * 10)\n",
    "epochs = 1000\n",
    "for epoch in range(epochs):\n",
    "    print('update: {} / {}'.format(epoch + 1, epochs))\n",
    "    cnn.update(type='caputo')\n",
    "    print('train r2: ', r2_score(train_y, cnn.predict(train_x)))\n",
    "    print('test r2: ', r2_score(test_y, cnn.predict(test_x)))\n",
    "    # print('r2: ', r2_score(y, cnn.predict(x)))\n",
    "    \n",
    "\n",
    "# cnn.save_model('.')\n",
    "# cnn.train(100, 'caputo')"
   ]
  },
  {
   "cell_type": "code",
   "execution_count": null,
   "metadata": {},
   "outputs": [],
   "source": [
    "from src import Config, CNNModelRegressor\n",
    "from src.model_matirx import Config, CNNModelMatrix\n",
    "from sklearn.model_selection import train_test_split\n",
    "\n",
    "import pandas as pd\n",
    "from sklearn.metrics import r2_score\n",
    "from sklearn.preprocessing import StandardScaler\n",
    "df = pd.read_csv('housing.csv', header=None, sep='\\s+') \n",
    "df.columns = ['CRIM', 'ZN', 'INDUS', 'CHAS', 'NOX', 'RM', 'AGE', 'DIS', 'RAD', 'TAX', 'PTRATIO', 'B', 'LSTAT', 'MEDV']\n",
    "x = df.iloc[:, :-1].values\n",
    "y = df.iloc[:, -1].values\n",
    "x = StandardScaler().fit_transform(x)\n",
    "\n",
    "train_x, test_x, train_y, test_y = train_test_split(x, y, test_size=0.2, random_state=42)\n",
    "\n",
    "cfg = Config(alpha=0.5, input_size=x.shape[1], output_size=1, learning_rate=0.08, hidden_size=20, kernel_size=13, padding_size=0)\n",
    "cnn = CNNModelRegressor(cfg, train_x, train_y)\n",
    "cnn2 = CNNModelMatrix(cfg, train_x, train_y)\n",
    "print('-' * 10, ' begin task ', '-' * 10)\n",
    "epochs = 1000\n",
    "for epoch in range(epochs):\n",
    "    print('update: {} / {}'.format(epoch + 1, epochs))\n",
    "    cnn.update(type='anti_caputo')\n",
    "    print('train r2: ', r2_score(train_y, cnn.predict(train_x)))\n",
    "    print('test r2: ', r2_score(test_y, cnn.predict(test_x)))\n",
    "    # print('r2: ', r2_score(y, cnn.predict(x)))\n",
    "    \n",
    "\n",
    "# cnn.save_model('.')\n",
    "# cnn.train(100, 'caputo')"
   ]
  },
  {
   "cell_type": "code",
   "execution_count": null,
   "metadata": {},
   "outputs": [],
   "source": [
    "from src import Config, CNNModelRegressor\n",
    "from src.model_matirx import Config, CNNModelMatrix\n",
    "from sklearn.model_selection import train_test_split\n",
    "\n",
    "import pandas as pd\n",
    "from sklearn.metrics import r2_score\n",
    "from sklearn.preprocessing import StandardScaler\n",
    "df = pd.read_csv('housing.csv', header=None, sep='\\s+') \n",
    "df.columns = ['CRIM', 'ZN', 'INDUS', 'CHAS', 'NOX', 'RM', 'AGE', 'DIS', 'RAD', 'TAX', 'PTRATIO', 'B', 'LSTAT', 'MEDV']\n",
    "x = df.iloc[:, :-1].values\n",
    "y = df.iloc[:, -1].values\n",
    "x = StandardScaler().fit_transform(x)\n",
    "\n",
    "train_x, test_x, train_y, test_y = train_test_split(x, y, test_size=0.2, random_state=42)\n",
    "\n",
    "cfg = Config(alpha=0.5, input_size=x.shape[1], output_size=1, learning_rate=0.01, hidden_size=20, kernel_size=13, padding_size=0)\n",
    "cnn = CNNModelRegressor(cfg, train_x, train_y)\n",
    "cnn2 = CNNModelMatrix(cfg, train_x, train_y)\n",
    "print('-' * 10, ' begin task ', '-' * 10)\n",
    "epochs = 10000\n",
    "for epoch in range(epochs):\n",
    "    print('update: {} / {}'.format(epoch + 1, epochs))\n",
    "    cnn.update(type='caputo')\n",
    "    print('train r2: ', r2_score(train_y, cnn.predict(train_x)))\n",
    "    print('test r2: ', r2_score(test_y, cnn.predict(test_x)))\n",
    "    # print('r2: ', r2_score(y, cnn.predict(x)))\n",
    "    \n",
    "\n",
    "# cnn.save_model('.')\n",
    "# cnn.train(100, 'caputo')"
   ]
  },
  {
   "cell_type": "code",
   "execution_count": null,
   "metadata": {},
   "outputs": [],
   "source": []
  },
  {
   "cell_type": "code",
   "execution_count": null,
   "metadata": {},
   "outputs": [],
   "source": []
  }
 ],
 "metadata": {
  "kernelspec": {
   "display_name": "base",
   "language": "python",
   "name": "python3"
  },
  "language_info": {
   "codemirror_mode": {
    "name": "ipython",
    "version": 3
   },
   "file_extension": ".py",
   "mimetype": "text/x-python",
   "name": "python",
   "nbconvert_exporter": "python",
   "pygments_lexer": "ipython3",
   "version": "3.7.3"
  }
 },
 "nbformat": 4,
 "nbformat_minor": 2
}
