{
 "cells": [
  {
   "cell_type": "code",
   "execution_count": 1,
   "metadata": {},
   "outputs": [
    {
     "name": "stderr",
     "output_type": "stream",
     "text": [
      "e:\\anaconda3\\lib\\site-packages\\past\\types\\oldstr.py:5: DeprecationWarning: Using or importing the ABCs from 'collections' instead of from 'collections.abc' is deprecated, and in 3.8 it will stop working\n",
      "  from collections import Iterable\n",
      "C:\\Users\\studyhard\\AppData\\Roaming\\Python\\Python37\\site-packages\\openpyxl\\compat\\numbers.py:41: DeprecationWarning: `np.float` is a deprecated alias for the builtin `float`. To silence this warning, use `float` by itself. Doing this will not modify any behavior and is safe. If you specifically wanted the numpy scalar type, use `np.float64` here.\n",
      "Deprecated in NumPy 1.20; for more details and guidance: https://numpy.org/devdocs/release/1.20.0-notes.html#deprecations\n",
      "  numpy.float,\n",
      "C:\\Users\\studyhard\\AppData\\Roaming\\Python\\Python37\\site-packages\\openpyxl\\xml\\functions.py:30: DeprecationWarning: defusedxml.lxml is no longer supported and will be removed in a future release.\n",
      "  from defusedxml.lxml import fromstring as _fromstring, tostring\n",
      "Building prefix dict from the default dictionary ...\n",
      "Loading model from cache C:\\Users\\STUDYH~1\\AppData\\Local\\Temp\\jieba.cache\n",
      "Loading model cost 0.620 seconds.\n",
      "Prefix dict has been built succesfully.\n"
     ]
    }
   ],
   "source": [
    "from src.process import Process\n",
    "import numpy as np\n",
    "import pandas as pd\n",
    "p = Process('./data/英语')\n",
    "\n",
    "#TODO 情感有空的√ js抽样 pylda√ 阈值调整√"
   ]
  },
  {
   "cell_type": "code",
   "execution_count": 2,
   "metadata": {},
   "outputs": [],
   "source": [
    "tokens = p.df[p.document_col].apply(p.split_text, args=(p.read_stopwords(),))"
   ]
  },
  {
   "cell_type": "code",
   "execution_count": null,
   "metadata": {},
   "outputs": [],
   "source": [
    "p.df[(p.df[p.sentiment_col] == '负面') & (p.df[p.source_col] != 'reddit') & (p.df[p.document_col].str.len() < 50)][[p.source_col, p.document_col]].sample(3).to_dict()"
   ]
  },
  {
   "cell_type": "code",
   "execution_count": null,
   "metadata": {},
   "outputs": [],
   "source": [
    "p.df[(p.df[p.sentiment_col] == '正面') & (p.df[p.document_col].str.len() < 200)][[p.source_col, p.document_col]].sample(10).to_dict()"
   ]
  },
  {
   "cell_type": "code",
   "execution_count": null,
   "metadata": {},
   "outputs": [],
   "source": []
  }
 ],
 "metadata": {
  "kernelspec": {
   "display_name": "base",
   "language": "python",
   "name": "python3"
  },
  "language_info": {
   "codemirror_mode": {
    "name": "ipython",
    "version": 3
   },
   "file_extension": ".py",
   "mimetype": "text/x-python",
   "name": "python",
   "nbconvert_exporter": "python",
   "pygments_lexer": "ipython3",
   "version": "3.7.3"
  }
 },
 "nbformat": 4,
 "nbformat_minor": 2
}
