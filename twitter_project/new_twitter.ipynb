{
 "cells": [
  {
   "cell_type": "code",
   "execution_count": 1,
   "metadata": {},
   "outputs": [],
   "source": [
    "from selenium import webdriver"
   ]
  },
  {
   "cell_type": "code",
   "execution_count": 2,
   "metadata": {},
   "outputs": [],
   "source": [
    "driver = webdriver.Chrome()"
   ]
  },
  {
   "cell_type": "code",
   "execution_count": 3,
   "metadata": {},
   "outputs": [],
   "source": [
    "driver.get('https://twitter.com/search-advanced')"
   ]
  },
  {
   "cell_type": "code",
   "execution_count": 4,
   "metadata": {
    "scrolled": true
   },
   "outputs": [
    {
     "data": {
      "text/plain": [
       "[{'domain': '.twitter.com',\n",
       "  'expiry': 1721041542,\n",
       "  'httpOnly': False,\n",
       "  'name': 'twid',\n",
       "  'path': '/',\n",
       "  'sameSite': 'None',\n",
       "  'secure': True,\n",
       "  'value': 'u%3D1680459207676678144'},\n",
       " {'domain': '.twitter.com',\n",
       "  'expiry': 1723719940,\n",
       "  'httpOnly': False,\n",
       "  'name': 'ct0',\n",
       "  'path': '/',\n",
       "  'sameSite': 'Lax',\n",
       "  'secure': True,\n",
       "  'value': '6f22c2692a96d11eadd6173b9b6772d38efcfc2c30383cd5876d4e0b2c6897e3f0dab941249fe320143724ff0d63540ba3388e39023f2cc54a0dce0f2e95daffdcb1f0bad6c10eb2397ab3a438a30fa2'},\n",
       " {'domain': '.twitter.com',\n",
       "  'expiry': 1723719939,\n",
       "  'httpOnly': True,\n",
       "  'name': 'auth_token',\n",
       "  'path': '/',\n",
       "  'sameSite': 'None',\n",
       "  'secure': True,\n",
       "  'value': 'cf3389ff6aee82e69def6e8f39bffd4660f37300'},\n",
       " {'domain': '.twitter.com',\n",
       "  'httpOnly': True,\n",
       "  'name': '_twitter_sess',\n",
       "  'path': '/',\n",
       "  'sameSite': 'Lax',\n",
       "  'secure': True,\n",
       "  'value': 'BAh7CSIKZmxhc2hJQzonQWN0aW9uQ29udHJvbGxlcjo6Rmxhc2g6OkZsYXNo%250ASGFzaHsABjoKQHVzZWR7ADoPY3JlYXRlZF9hdGwrCEDnX16JAToMY3NyZl9p%250AZCIlZmFlNGFiYjY3OTRmOGIyNjc1OTNiZjFiMGRlNmZjYzU6B2lkIiVkZGUz%250AYzA3NjBkZTIzZjZkZTcyMmI0ZjIyOWI3YzNhNw%253D%253D--e4c8d7579098dc26da2ccd02df2687da6d3f7842'},\n",
       " {'domain': 'twitter.com',\n",
       "  'httpOnly': False,\n",
       "  'name': 'lang',\n",
       "  'path': '/',\n",
       "  'sameSite': 'Lax',\n",
       "  'secure': False,\n",
       "  'value': 'en'},\n",
       " {'domain': '.twitter.com',\n",
       "  'expiry': 1723719939,\n",
       "  'httpOnly': True,\n",
       "  'name': 'kdt',\n",
       "  'path': '/',\n",
       "  'sameSite': 'Lax',\n",
       "  'secure': True,\n",
       "  'value': 'FrZwVQz30sBsYLOv5H8cLN6N2BsZd3l3ZEnDxdH0'},\n",
       " {'domain': '.twitter.com',\n",
       "  'expiry': 1689516288,\n",
       "  'httpOnly': False,\n",
       "  'name': 'gt',\n",
       "  'path': '/',\n",
       "  'sameSite': 'Lax',\n",
       "  'secure': True,\n",
       "  'value': '1680533933232996352'},\n",
       " {'domain': '.twitter.com',\n",
       "  'expiry': 1723719887,\n",
       "  'httpOnly': False,\n",
       "  'name': 'guest_id',\n",
       "  'path': '/',\n",
       "  'sameSite': 'None',\n",
       "  'secure': True,\n",
       "  'value': 'v1%3A168950548680793220'}]"
      ]
     },
     "execution_count": 4,
     "metadata": {},
     "output_type": "execute_result"
    }
   ],
   "source": [
    "driver.get_cookies()"
   ]
  },
  {
   "cell_type": "code",
   "execution_count": 5,
   "metadata": {},
   "outputs": [],
   "source": [
    "import json"
   ]
  },
  {
   "cell_type": "code",
   "execution_count": 6,
   "metadata": {},
   "outputs": [],
   "source": [
    "res = driver.get_cookies()\n",
    "with open('cookie_3.json', 'w') as f:\n",
    "    json.dump(res, f)"
   ]
  },
  {
   "cell_type": "code",
   "execution_count": 6,
   "metadata": {},
   "outputs": [],
   "source": [
    "res = json.loads(res)"
   ]
  },
  {
   "cell_type": "code",
   "execution_count": 7,
   "metadata": {},
   "outputs": [
    {
     "data": {
      "text/plain": [
       "[{'domain': '.twitter.com',\n",
       "  'expiry': 1718371808,\n",
       "  'httpOnly': False,\n",
       "  'name': 'personalization_id',\n",
       "  'path': '/',\n",
       "  'sameSite': 'None',\n",
       "  'secure': True,\n",
       "  'value': '\"v1_QFnus5i1LSuNIxyqCggHtg==\"'},\n",
       " {'domain': 'twitter.com',\n",
       "  'httpOnly': False,\n",
       "  'name': 'lang',\n",
       "  'path': '/',\n",
       "  'sameSite': 'Lax',\n",
       "  'secure': False,\n",
       "  'value': 'en'},\n",
       " {'domain': '.twitter.com',\n",
       "  'expiry': 1718371808,\n",
       "  'httpOnly': False,\n",
       "  'name': 'guest_id_ads',\n",
       "  'path': '/',\n",
       "  'sameSite': 'None',\n",
       "  'secure': True,\n",
       "  'value': 'v1%3A168381176293377392'},\n",
       " {'domain': '.twitter.com',\n",
       "  'expiry': 1683898208,\n",
       "  'httpOnly': True,\n",
       "  'name': 'att',\n",
       "  'path': '/',\n",
       "  'sameSite': 'None',\n",
       "  'secure': True,\n",
       "  'value': '1-nqHdrS3Ck6URGCvgSu7AKkio5zNvRahd1SdcZePx'},\n",
       " {'domain': '.twitter.com',\n",
       "  'expiry': 1718371807,\n",
       "  'httpOnly': True,\n",
       "  'name': 'auth_token',\n",
       "  'path': '/',\n",
       "  'sameSite': 'None',\n",
       "  'secure': True,\n",
       "  'value': '57daa72ef81b520911b18fad71ab7c8c9268bec3'},\n",
       " {'domain': '.twitter.com',\n",
       "  'expiry': 1718371807,\n",
       "  'httpOnly': False,\n",
       "  'name': 'ct0',\n",
       "  'path': '/',\n",
       "  'sameSite': 'Lax',\n",
       "  'secure': True,\n",
       "  'value': '7b26bd922fcf00215c65f4a6b08d1158b48591b79703d0865e5dfd68bb56c90ac9d6946875d8eb4eee0cc3b2a6aa4fa759af213cb192502a312d26961b07bbd25ec9c366e8e9b1396af4f9be1c1a3f50'},\n",
       " {'domain': '.twitter.com',\n",
       "  'expiry': 1718371807,\n",
       "  'httpOnly': True,\n",
       "  'name': 'kdt',\n",
       "  'path': '/',\n",
       "  'sameSite': 'Lax',\n",
       "  'secure': True,\n",
       "  'value': 'A4ig8Kml8ivuNTdmwBLCWO8rdKGszgpvfYp9Th67'},\n",
       " {'domain': 'twitter.com',\n",
       "  'expiry': 1699363805,\n",
       "  'httpOnly': False,\n",
       "  'name': 'g_state',\n",
       "  'path': '/',\n",
       "  'sameSite': 'Lax',\n",
       "  'secure': False,\n",
       "  'value': '{\"i_l\":0}'},\n",
       " {'domain': '.twitter.com',\n",
       "  'expiry': 1683898211,\n",
       "  'httpOnly': False,\n",
       "  'name': '_gid',\n",
       "  'path': '/',\n",
       "  'sameSite': 'Lax',\n",
       "  'secure': False,\n",
       "  'value': 'GA1.2.25445020.1683811765'},\n",
       " {'domain': '.twitter.com',\n",
       "  'expiry': 1715347811,\n",
       "  'httpOnly': False,\n",
       "  'name': 'twid',\n",
       "  'path': '/',\n",
       "  'sameSite': 'None',\n",
       "  'secure': True,\n",
       "  'value': 'u%3D1656652351615426561'},\n",
       " {'domain': '.twitter.com',\n",
       "  'expiry': 1718371766,\n",
       "  'httpOnly': False,\n",
       "  'name': 'guest_id',\n",
       "  'path': '/',\n",
       "  'sameSite': 'None',\n",
       "  'secure': True,\n",
       "  'value': 'v1%3A168381176293377392'},\n",
       " {'domain': '.twitter.com',\n",
       "  'expiry': 1718371808,\n",
       "  'httpOnly': False,\n",
       "  'name': 'guest_id_marketing',\n",
       "  'path': '/',\n",
       "  'sameSite': 'None',\n",
       "  'secure': True,\n",
       "  'value': 'v1%3A168381176293377392'},\n",
       " {'domain': '.twitter.com',\n",
       "  'httpOnly': True,\n",
       "  'name': '_twitter_sess',\n",
       "  'path': '/',\n",
       "  'sameSite': 'Lax',\n",
       "  'secure': True,\n",
       "  'value': 'BAh7CSIKZmxhc2hJQzonQWN0aW9uQ29udHJvbGxlcjo6Rmxhc2g6OkZsYXNo%250ASGFzaHsABjoKQHVzZWR7ADoPY3JlYXRlZF9hdGwrCPiCAAuIAToMY3NyZl9p%250AZCIlODg5MmFjYmUyOWQ1ODkxMzk1YWNjY2I0MjVmM2Q3Njg6B2lkIiVlOTI1%250AYzlhZTU2YzlhY2Q2NmZjMDlhYjQ1OGUyM2Q4Mw%253D%253D--c89a51b0074727e2cffb3e10d9178b189151a427'},\n",
       " {'domain': '.twitter.com',\n",
       "  'expiry': 1718371811,\n",
       "  'httpOnly': False,\n",
       "  'name': '_ga',\n",
       "  'path': '/',\n",
       "  'sameSite': 'Lax',\n",
       "  'secure': False,\n",
       "  'value': 'GA1.2.341946612.1683811765'}]"
      ]
     },
     "execution_count": 7,
     "metadata": {},
     "output_type": "execute_result"
    }
   ],
   "source": [
    "res"
   ]
  },
  {
   "cell_type": "code",
   "execution_count": 13,
   "metadata": {},
   "outputs": [],
   "source": [
    "driver.close()"
   ]
  },
  {
   "cell_type": "code",
   "execution_count": null,
   "metadata": {},
   "outputs": [],
   "source": []
  },
  {
   "cell_type": "code",
   "execution_count": null,
   "metadata": {},
   "outputs": [],
   "source": []
  },
  {
   "cell_type": "code",
   "execution_count": 8,
   "metadata": {},
   "outputs": [],
   "source": [
    "for i in res:\n",
    "    driver.add_cookie(i)"
   ]
  },
  {
   "cell_type": "code",
   "execution_count": 11,
   "metadata": {},
   "outputs": [],
   "source": [
    "driver.get('https://twitter.com/search-advanced')"
   ]
  },
  {
   "cell_type": "code",
   "execution_count": null,
   "metadata": {},
   "outputs": [],
   "source": []
  },
  {
   "cell_type": "code",
   "execution_count": 1,
   "metadata": {},
   "outputs": [],
   "source": [
    "import pandas as pd"
   ]
  },
  {
   "cell_type": "code",
   "execution_count": 6,
   "metadata": {},
   "outputs": [],
   "source": [
    "df = pd.read_csv('outputs/chinese traditional culture_2021-01-01_2023-07-05.csv', header=None)"
   ]
  },
  {
   "cell_type": "code",
   "execution_count": 9,
   "metadata": {},
   "outputs": [],
   "source": [
    "headers = ['UserScreenName', 'UserName', 'Timestamp', 'Text', 'Embedded_text', 'Emojis',\n",
    "               'Comments', 'Likes', 'Retweets', 'Image link', 'Tweet URL']"
   ]
  },
  {
   "cell_type": "code",
   "execution_count": 17,
   "metadata": {},
   "outputs": [
    {
     "data": {
      "text/plain": [
       "['Replying to \\n@eu_gi_oh',\n",
       " 'SM named it \"Culture Humanity\" so I am expecting a traditional chinese dance performance for Winwin as representation',\n",
       " 'Replying to \\n@IRIglobal',\n",
       " 'Traditional Chinese is lame. If you care so much about Chinese culture try speaking Literary Chinese.',\n",
       " 'Replying to \\n@notXiangyu\\n and \\n@steelmuslim',\n",
       " 'The pictogram for the Beijing 2022 Olympic and Paralympic Winter Games was released on Thursday. Inspired by traditional Chinese calligraphy and seal carving, the design presents unique Chinese culture through a variety of dynamic logos. #Beijing2022 #WinterOlympics',\n",
       " 'this is  civilization dazhou,polite  tongchuan,the Children were showing traditional Chinese culture',\n",
       " \"It's surprising to me that I heard the sound of a firecracker in the midnight in the New year eve in the small village in south France. Setting off the firecracker is a Chinese traditional culture for celebrating in the BIG days, like the new year coming, the wedding.\",\n",
       " 'Replying to \\n@k4giron',\n",
       " 'After imprisoning Uyghurs and trying to cleanse Uyghur culture, CCP are producing fake Uyghurs. Fake Uyghurs are those Han Chinese who are dressing traditional Uyghur outfits and dancing like Uyghurs for CCP to falsely claim that Uyghurs are living happy lives.\\n#UyghurGenocide',\n",
       " 'Replying to \\n@hitalix\\n and \\n@niewanyin',\n",
       " 'Traditional medicine definitely is one of the main reasons behind the long life and culture of Chinese people a direct outcome of living in harmony with the environment & applying the learning & wisdom extracted from the environment we live in.',\n",
       " 'Replying to \\n@WangyiboOversea',\n",
       " 'Replying to \\n@yennchanz',\n",
       " 'Replying to \\n@Bobo82749034',\n",
       " 'Replying to \\n@pegshua',\n",
       " 'Replying to \\n@ics_delhi',\n",
       " 'Chongqing a beautiful 3d city \\nToo much good food to taste \\nExperience the traditional Chinese culture  \\n\\nFollow Xiaozhan to enjoy the trip \\n\\n#XiaoZhan #肖战 \\n#샤오잔  #เซียวจ้าน \\n#SeanXiao\\n#肖戦 #シャオ・ジャン #肖戰\\ncr.logo',\n",
       " 'Replying to \\n@Godfly__\\n @andyguy\\n and 42 others',\n",
       " '[Meme] \"Lion dance is a form of traditional dance in Chinese culture and other Asian countries in which performers mimic a lion\\'s movements in a lion costume to bring good luck and fortune\" so that\\'s a lion apparently. https://redd.it/kpnbl2',\n",
       " 'Replying to \\n@ParkJibooty6',\n",
       " 'Decorated in traditional Japanese maki-e lacquer and inspired by Chinese culture, the latest ultra-thin L.U.C from \\n@Chopard\\n also incorporates a simple zodiac display. Details on SJX Watches: https://watchesbysjx.com/2021/01/chopard-luc-xp-urushi-spirit-of-shi-chen.html…\\n\\n#chopard #chopardluc #watches #sjxwatches',\n",
       " \"Something modern-traditional like Oneus's Lit or VIXX's Shangri-la maybe they could do a blend of Korean, Chinese, and Japanese culture\\n\\nI vote for #PENTAGON_HLA2021 \\n@CUBE_PTG\\n #PENTAGON #HLA2021 https://t.co/GWbb36b5Vu\",\n",
       " 'Replying to \\n@agent_of_change',\n",
       " 'Replying to \\n@sapphixy',\n",
       " 'As a (diaspora) chinese, I don’t mind a creative spin on a traditional design. \\n\\nBut why do they have to bring down our culture to promote their own design? Smh',\n",
       " 'At the Children\\'s Art School in Yaohai District, central #China\\'s Hefei City, children from the Sichuan #Opera Club are performing the \"face-changing\" skills of Sichuan Opera, experiencing the beauty of traditional Chinese culture',\n",
       " 'Guanxi (simplified Chinese: 关系; traditional Chinese: 關係; pinyin: guānxi) defines the fundamental dynamic in personalized social networks of power, and is a crucial system of beliefs in Chinese culture.',\n",
       " 'Replying to \\n@flEVE888',\n",
       " 'In Huayin City, northeast #China, Ning Pingping and her two older sisters perform sword dances for tourists. They started to learn martial arts when they were 5 years old. Now, they excel at sword dancing and feel honored to inherit the traditional Chinese martial art.',\n",
       " 'Two special stamps were issued by China Post to mark the upcoming Year of the Ox. Shengxiao (Chinese zodiac) is an important part of traditional Chinese culture. The 12 animals of the zodiac are rat, ox, tiger, rabbit, dragon, snake, horse, sheep, monkey, rooster, dog and boar.',\n",
       " 'I’m deeply offended by this because this is a blatant assault on a BELOVED traditional Chinese game and a HUGE part of my culture. Alyse does an amazing job here explaining why it’s so deeply hurtful. https://twitter.com/AlyseWhitney/status/1346333657087107074…',\n",
       " 'Replying to \\n@SimuLiu',\n",
       " 'In NE China, Ning Pingping and her two older sisters perform #sword #dances for #tourists. They started to learn #martialarts (#武术) since childhood. Now, they excel at sword dancing and feel honored to inherit the #traditional #Chinese martial art.\\n\\n#society #culture',\n",
       " 'Replying to \\n@zhongcuiqing',\n",
       " 'Replying to \\n@breadnoots',\n",
       " 'Replying to \\n@ShenYun',\n",
       " 'Thinking about how when it comes to trying to protect black culture it’s culture gatekeepers this and let everyone love the culture that .. but a couple years back that white girl got run out for wearing a traditional Chinese dress to prom and we all saw it was insensitive',\n",
       " 'Taking a traditional Chinese game and saying that it has deep roots in AMERICAN culture is literally the textbook definition of cultural appropriation... What the fuck #themahjongline',\n",
       " 'Don’t come and ni hao at me with this crap. “The traditional tiles while beautiful all look the same??”This tradition is not going to be re-defined by someone who has done light research on and say they know everything about Mahjong and Chinese culture lol bye #themahjongline https://t.co/glRjavPf2u',\n",
       " 'Replying to \\n@ShenYun',\n",
       " '“She set out to give the game a \"respectful refresh\" because traditional tiles \"did not reflect the fun\" that she was having while playing”\\n\\nI call it cultural appropriation & downright disrespect to Chinese culture. \\n\\nSome people ',\n",
       " 'This is a classic style template, using the color of parchment paper background, with Chinese traditional culture seals and fonts, with the pictures of Chinese food, is sure to impress your audience.\\n#ChineseFood #PowerPointTemplate \\nhttps://greatppt.com/downloads/chinese-food-powerpoint-template/…',\n",
       " 'Replying to \\n@eye_patch_cute',\n",
       " 'Replying to \\n@julia_drennan',\n",
       " \"Thread of  traditional Japanese culture in Noragami:\\n\\n1/ This is a 𝘒𝘢𝘬𝘪𝘦𝘮𝘰𝘯 jar. It was originally produced at the factories in Japan's Hizen province from the Edo period's mid-17th century onwards. It shares much in common with the Chinese style pottery.+\",\n",
       " \"NI schools: According to the Chinese Lunar Calendar, we enter the #YearOfTheOx on 12 February! \\n\\nTo help your pupils explore Chinese culture, we've developed a #RemoteLearning education pack full of traditional stories, activities & much more.\\n\\nDownload  https://bit.ly/399yoCk\",\n",
       " 'Zhang Yixing: Chinese traditional culture is really big and profound...\\n@layzhang',\n",
       " 'I love how he always present the Chinese  traditional culture with a modern twist ',\n",
       " 'Replying to \\n@hua_shuyeh',\n",
       " 'Replying to \\n@Hiehiemaru',\n",
       " 'I just had to click through 2 safety warnings to watch a NTD News report on YouTube.\\n\\nNTD News is a Falun Gong news channel focused on traditional chinese culture. They\\'re openly critical of the CCP and now Google deems that \"Dangerous Content\".',\n",
       " 'The beauty of cheongsam, the beauty of traditional Chinese culture！',\n",
       " 'the dragon in Chinese culture is a kind of evil beast, \\n the symbol of the dragon, also used in the traditional Chinese dance of the Dragon. \\n Craft Dragon sculpture made of mud',\n",
       " '#한복 #Hanbok  #korea 한복\\n#Hanbok_challenge  korea \\n#Kpop #Kdrama Kdrama hanbok\\nKoreans love Korean traditional hanbok. The Chinese bring such pictures and attack them is tantamount to claiming that hanbok is not their culture',\n",
       " 'Replying to \\n@JackPosobiec',\n",
       " 'Replying to \\n@iyer_rn\\n @sgurumurthy\\n and 40 others',\n",
       " 'Replying to \\n@NecromancyFan',\n",
       " 'Enjoy the stunning photos of mandarin ducks gleefully playing around water. Mandarin ducks have often been taken as a symbol of love in traditional Chinese culture. (Photos courtesy of Nan Yimen)',\n",
       " 'Replying to \\n@SQiebu',\n",
       " 'Replying to \\n@AgentSaffron',\n",
       " 'top five favourite music , huh .\\n\\nhe pauses to think , letting out a low mrr .\\n\\nhm .  well , i enjoy traditional chinese musics , as to be expected . traditional music from any culture , really . hmm . . . medieval music , too . piano , violin , classical music . https://twitter.com/ThornNightBlood/status/1348718228189704198…',\n",
       " 'Replying to \\n@winningatmylife',\n",
       " 'I like Kimchi, too. This Korean traditional food is really special I’m so impressed that chinese are interested in Korean culture this much',\n",
       " \"On 30 Jan, our Minecraft CNY Online Junior Hackathon celebrates traditional Chinese culture and invites your  child to build and learn to code with their friends from the safety of your home! \\n\\nWe'd love for you to join - just send us a DM! \\n\\n#chinesenewyear #coding #minecraft\",\n",
       " '#TodayInHistory On 1869/1/12, Chinese thinker Zhang Taiyan 章太炎 was born. Zhang Taiyan was a master of #Chinese traditional culture in modern #China, and also a scholar type bourgeois revolutionist. #OnThisDay',\n",
       " '“Even though many people obsess over preserving ‘authentic’ traditional Chinese culture, the very Chinese word for ‘culture’ actually came from a *Japanese* word, which was coined to translate the *Western* concept of culture.” https://troubadourworks.com/tiandi/meotw/2021/01/11/wenhua/…\\n\\n#MEotW #PīnyīnPlus',\n",
       " 'Replying to \\n@afangirlmess',\n",
       " \"Our PhD thesis of the day is by Dr Wenjun Liu: “A life history study of young Chinese women's experiences under the influence of traditional culture and its contemporary evolution” (2020). #openaccess #research #education https://pearl.plymouth.ac.uk/handle/10026.1/16732…\",\n",
       " \"lately I've been itching to learn the Erhu/Chinese violin because of how much traditional music/contemporary music utilizes said instrument.\\nProbably just a phase of me wishing I was more intune with chinese culture instead of me being a super americanized abc\",\n",
       " 'Falun Gong is a cult. They do what all cults do, make themselves look not like a cult including spreading rumours and misinformation. All the appropriation of traditional Chinese culture & medicine, Buddhism, Taoism to disguise themselves with is just disgusting & disrespectful.',\n",
       " 'Wang Qiaopu, from Zibo, Shandong province is skilled at painting #Qingdao’s historic buildings on porcelain plates. The talented artist is fascinated by the city’s architecture and hopes to pass on Qingdao’s culture by depicting it on traditional Chinese pottery. #QingdaoStories',\n",
       " 'Enjoy the stunning photos of mandarin ducks gleefully playing around water. Mandarin ducks have often been taken as a symbol of love in traditional Chinese culture.',\n",
       " 'You may also follow me on Telegram:\\nTeaMasters\\nEnjoy traditional Chinese and Taiwanese tea culture with TeaMasters.\\nhttps://t.me/TeaMastersBlogNews…',\n",
       " 'Replying to \\n@Jv37200666\\n and \\n@ChinaAmbUN',\n",
       " 'Hi all, my latest promo video to celebrate the 2021 CHINESE NEW YEAR is out now! 2 full music tracks in one video featuring a blend of traditional Chinese instruments! Take a short break and enjoy the music while watching some cool animations celebrating Chinese culture!',\n",
       " 'An elderly couple in #Liaocheng, E #China’s #Shandong province made innovations in the Chinese traditional #pastry baked with red dates in between and turned it into a work of #art. #charmingshandong #culture #delicious #delicacy #foodie #food #gourmet',\n",
       " 'Kung Fu comprises a series of fighting styles which have developed over a long period in China. Though regarded as a traditional sport, it continues to gain popularity and is a prominent representative of Chinese culture.',\n",
       " 'Replying to \\n@readtw271\\n @marcmakingsense\\n and 3 others',\n",
       " '\"Can an Asian psychologist succeed in North America, especially when he is disadvantaged because he (a) Speaks with a heavy Chinese accent; (b) is an introvert by temperament; (c) sees the world from the lens of traditional Chinese culture...?\"',\n",
       " \"can anyone recommend me gay dramas, idc if it's korean or chinese...it'd be great if there is sorcery, sword fighting, and traditional culture \",\n",
       " \"Wearing #Han Dynasty (206BC-220AD) robes, #foreigners are experiencing the #etiquette and #manners of the dynasty and enjoying traditional #Chinese #cuisine at Nishan Academy Hotel in #Qufu, E #China's #Shandong province, the hometown of #Confucius. #foreignersinshandong #culture\",\n",
       " 'Replying to \\n@TerraHatvol',\n",
       " 'Xi asks Starbucks’ Schultz for help mending U.S.-China ties - BNN Bloomberg http://bnnbloomberg.ca/xi-asks-starbucks-s-schultz-for-help-mending-u-s-china-ties-1.1548404#.YAC6eBpwYUo.twitter… \\nCompletely open up Chinese market to ensure world standard products. Otherwise, quick buck & localize self interest culture will hold high tech & traditional products back!',\n",
       " 'Replying to \\n@thejerrylu',\n",
       " 'As the Chinese New Year (the Year of the Ox) is coming an exhibition themed on stamps depicting oxen has opened to the public at the #ChinaNationalPostandPostageStampMuseum in #Beijing, showing traditional Chinese zodiac folk customs and promoting traditional Chinese culture.',\n",
       " 'With the “go-go-go” attitude of mainstream culture, sometimes it can be hard for the young ones to slow down enough to find rest. If this is something you are struggling with at home, learn how traditional Chinese medicine can help from our latest post. http://bit.ly/3svdXIz',\n",
       " \"On Jan12,employees of Jimei palace lantern factory in Luhong Town, Dong'an County, #Hunan Province were busy making self-designed art palace #lanterns. The local Jimei art palace lantern combines the traditional Chinese culture and fashion elements in a novel and unique style.\",\n",
       " 'Replying to \\n@lymanstoneky',\n",
       " 'Replying to \\n@RasaiSlug',\n",
       " 'Replying to \\n@MichaelSCollura',\n",
       " 'Replying to \\n@LeaRundblad\\n and \\n@CloudAngelAna',\n",
       " 'Replying to \\n@NoCCPGenocide\\n and \\n@Sparkledocmad2',\n",
       " 'exactly, i\\'d consider them as \"appreciation\" if they wear a propper qipao (traditional/modern) and are learning about the chinese culture at the very least. im so tired of people using my culture for their aesthetic only',\n",
       " 'I love seeing Malaysian united to defend our heritage, baju kurung is Malay traditional wear, but I can see Chinese and Indian join the party to mock the colonial designer who  condescending and contempt for Malay and Malaysian culture. You mess with wrong country.',\n",
       " 'Replying to \\n@thiefSouthKorea',\n",
       " 'Replying to \\n@echorangecho',\n",
       " 'Replying to \\n@realLPBeria\\n @TheFoodMachine1\\n and \\n@Peter_Nimitz',\n",
       " 'Zhang Yixing had so much contribution not only in music but also in the Chinese culture as well. The way he fused his own music styles to traditional one is worth more than a standing ovation. Lay Zhang, the most hardworking since day 1. Happy nine years  \\n@layzhang',\n",
       " \"Koreans try to breast augmentation for history, and   Korean keyboard warriors kept throwing mud at Chinese in order to steal culture. Do you heard about KIMBAP(SUSHI)，Many  Korean keyboard warriors said it's a Korean traditional food, or If you heard about Korean strawberry.\",\n",
       " 'Replying to \\n@geoff_p_wade',\n",
       " 'Replying to \\n@DrewPavlou\\n and \\n@arslan_hidayat',\n",
       " 'In this series for families with children ages 0-4, Ms. Janice will share traditional 3-character Chinese poems designed to teach values and behaviors, plus stories and songs. Learn Chinese language & culture and have fun! Join us on Tues Jan 19 at 11AM: https://queenslib.org/38BKR2g',\n",
       " 'Translation of what Elkie said in the video: \\n\\n\"Friends @ BayPlus, hello, I am Zhuang Dianxin. Read the digital magazine of BayPlus, and experience the beauty of Chinese traditional culture in a brand new way\" https://twitter.com/CLC_Intl/status/1351128256603414532…',\n",
       " 'BERGAMO combines the Chinese traditional culture and modern science element. This bedframe is mainly designed in a square structure with circular details. The soft cushion on headboard is angular and tough that can give good support and relieve pressure on the neck. #LUXEHOME',\n",
       " 'Replying to \\n@cnni',\n",
       " 'ELFSACK 2021 Spring New: \"A Wild Child\\'s Dream\"\\nVOL.3 : Havoc in Heaven\\nWhat impresses you most when mentioned China? \\nChinese Kongfu, Beijing opera or traditional culture?\\n#elfsack #tobedifferent #havocinheaven #traditionalculture #monkeyking #kongfu #beijingopera',\n",
       " 'translation from @nevershireverse: \\n\\n“Friends at BayPlus, hello, I am Zhuang Dianxin. Read the digital magazine of BayPlus, and experience the beauty of Chinese traditional culture in a brand new way”\\n\\n#莊錠欣 #ELKIE #엘키 \\n@CUBECLC\\n #CLC  #씨엘씨',\n",
       " '#Internationalstudents of #Shandong University learn to write #SpringFestival #couplets from #calligraphy teachers and explore traditional Chinese #culture. #NewYearInShandong #charmingshandong #traditionalculture #foreignersinshandong \\n@ShandongU\\n @Shandongdaxue\\n @iShandong',\n",
       " 'Actually, CCP had destroyed the Chinese traditional culture after it took over China, but Taiwan still kept the main core of Chinese traditional culture',\n",
       " 'innovations in China 2020 as follows:New product with non-traditional source of raw materials, Functional drinks for pet, Herbal added extracts, Innovative packaging combining Chinese traditional style and culture, etc\\nFull content: http://en.cipscom.com/IndustryNews/23987.htm… #petmarket #pet',\n",
       " 'The whole hanbok challenge tag is really disgusting,, people are fighting and claiming that the hanbok is Chinese or from another culture but they’re literally just using photos that look similar. A lot of Asian traditional wear is draped and layered fabrics which sometimes look',\n",
       " '\"Traditional Chinese Culture\" be like...',\n",
       " 'China has selected 10 initial names for its first #Mars rover. All the 10 names -- Hongyi, Kylin, Nezha, Chitu, Zhurong, Qiusuo, Hot Wheel, Zhuimeng, Tianxing and Xinghuo -- are related to traditional Chinese culture.',\n",
       " 'When we are dealing with other people, we need to be grateful and awe. In traditional Chinese culture, there is a reminder: No merit can be retained on an arrogant mountain. If a person wants to achieve great achievements, he needs to be like water.',\n",
       " 'ELFSACK 2021 Spring New: \"A Wild Child\\'s Dream\"\\nVOL.3 : Havoc in Heaven\\nWhat impresses you most when mentioned China? \\nChinese Kongfu, Beijing opera or traditional culture?\\n\\n#elfsack #tobedifferent #havocinheaven #traditionalculture #monkeyking #kongfu #beijingopera',\n",
       " 'destruction of the Chinese traditional culture and her replacement with the communist culture. The communists cannot wage, for now, war, so they wage the cultural, political, financial, psychological war ; this is the overture, the first necessary  phases of the real war that',\n",
       " 'It is fun when a traditional cuisine gets absorbed into another culture and you then love the fusion generated.\\n\\nA lot of Indians love Indo-Chinese. Similarly Japanese curry is a great example where the Indian curry is adopted and transformed.',\n",
       " 'China finished the initial evaluation of the global name collection for its 1st #Mars rover on Jan. 18. The 10 names, including Hongyi, Kylin, Nezha and Xinghuo, are all related to traditional Chinese #culture. https://bit.ly/3oYTwBU',\n",
       " 'China has selected 10 initial names for its first #Mars rover. All the 10 names -- Hongyi, Kylin, Nezha, Chitu, Zhurong, Qiusuo, Hot Wheel, Zhuimeng, Tianxing and Xinghuo -- are related to traditional Chinese culture. http://bit.ly/3bT4iFR',\n",
       " 'Replying to \\n@timeswang\\n and \\n@goofrider',\n",
       " 'Replying to \\n@TruthAbtChina2\\n and \\n@TruthAbtChina',\n",
       " 'Hi all, my LAST promo video to celebrate the 2021 CHINESE NEW YEAR is out now! A brand new track featuring traditional Chinese instruments and where east meets west!! Take a short break and enjoy the music while watching some cool animations celebrating Chinese culture!',\n",
       " 'US company The Mahjong Line has taken flak recently for erasing Chinese elements from its #Mahjong tiles, but appropriating traditional Chinese culture in their design, Inside Edition reported. The firm apologized, but still sells the tiles online starting at USD325 per set.',\n",
       " 'In this series for families with children ages 0-4, Ms. Janice will share traditional 3-character Chinese poems designed to teach values, plus stories and songs. Learn about Chinese language & culture and have fun! Join us on Tuesday, Jan. 19 at 11AM. https://queenslib.org/38BKR2g',\n",
       " \"These three books are the most useful for studying traditional Chinese imperial examination culture.I am just  writing an introduction  to the Chinese version of my friend Benjamin Elman's book\",\n",
       " 'The pictograms for the #2022BeijingOlympics are out. Inspired by Chinese characters and the art of seal carving, the pictograms combine winter sports elements with traditional Chinese culture. Each pictogram represents a sport and shows the most beautiful moments of the sport.',\n",
       " 'Laba is celebrated on the eighth day of the last lunar month, referring to the traditional start of celebrations for the Chinese New Year.The majority Chinese have long followed the tradition of eating Laba rice porridge on the Laba Festival. \\n#traditional #culture',\n",
       " 'The 2nd Hunan-Chinese Painting Biennale opened at Hunan Art Museum in #Changsha on Jan 19th. Figure painting has a long history. It is representative of #traditional Chinese #culture and holds a profound influence.',\n",
       " 'In partnership with the Ateneo Ricardo Leong Center for Chinese Studies, Ateneo Celadon presents to you Spring Festival 2021, a 5-day long celebration with traditional Chinese performances, talks on Chinese culture, and many more!',\n",
       " '#LabaFestival, the traditional #Chinese festival celebrated on the eighth day of the 12th lunar month, has three customs. The most famous one is eating Laba Congee that is cooked with sticky rice, red dates, lotus seeds, walnuts, and other various materials. #culture',\n",
       " 'Today is #LabaFestival when the traditional làbāzhōu (臘八粥) porridge is served. Bringing people & cultures together is at the heart of our plans for the new #MMhellofuture Chinese Culture Gallery. Read more on the importance of food in Chinese culture:',\n",
       " 'This is the first I\\'ve heard of \"traditional Chinese culture\" being against surrogacy, what happened to concubinage and legal/ritual motherhood lmao',\n",
       " 'After watching one of Ally’s videos about traditional Chinese culture where she said how important it is to have a good Qi, I feel like she is 100% right about it and I should stay positive, think about good things and try to become kinder to others',\n",
       " 'Replying to \\n@tikal0322',\n",
       " \"Cam why come to a traditional Chinese brunch, lunch, whatever it was and disrespect the culture by refusing the traditional food. Girl everything can't be burgers and fries! #RHOD\",\n",
       " 'Replying to \\n@chen_yenhan\\n and \\n@globaltimesnews',\n",
       " 'Replying to \\n@PijusHorribulus\\n @NakedGirlLefty\\n and 2 others',\n",
       " 'Replying to \\n@ChinaCGCalgary\\n @CGTNOfficial\\n and 5 others',\n",
       " 'Replying to \\n@ZuolaiWu',\n",
       " 'Happy LABA Festival everyone\\nWhat is LABA Festival？\\nThe Laba (腊八) is a traditional Chinese holiday celebrated on the eighth day of the twelfth month of the Chinese calendar. It is customary on this day to eat Laba Porridge. \\n#chineseculture #chinese #culture']"
      ]
     },
     "execution_count": 17,
     "metadata": {},
     "output_type": "execute_result"
    }
   ],
   "source": [
    "df.iloc[:, 4].tolist()"
   ]
  },
  {
   "cell_type": "code",
   "execution_count": null,
   "metadata": {},
   "outputs": [],
   "source": []
  }
 ],
 "metadata": {
  "kernelspec": {
   "display_name": "Python 3",
   "language": "python",
   "name": "python3"
  },
  "language_info": {
   "codemirror_mode": {
    "name": "ipython",
    "version": 3
   },
   "file_extension": ".py",
   "mimetype": "text/x-python",
   "name": "python",
   "nbconvert_exporter": "python",
   "pygments_lexer": "ipython3",
   "version": "3.7.3"
  }
 },
 "nbformat": 4,
 "nbformat_minor": 2
}
