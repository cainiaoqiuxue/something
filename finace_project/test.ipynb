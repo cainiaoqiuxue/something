{
 "cells": [
  {
   "cell_type": "code",
   "execution_count": 1,
   "metadata": {},
   "outputs": [],
   "source": [
    "import pandas as pd"
   ]
  },
  {
   "cell_type": "code",
   "execution_count": 2,
   "metadata": {},
   "outputs": [],
   "source": [
    "df1 = pd.read_csv('./data/数据集/宏观数据1973.01-2022.12.csv', encoding='gbk', skiprows=4)\n",
    "df1 = df1.drop(0).reset_index(drop=True)\n",
    "df2 = pd.read_excel('./data/数据集/f-rx(1973.01-2022.12)_clear.xlsx')\n",
    "df3 = pd.read_excel('./data/数据集/NBER based US_Recession Indicators.xls', skiprows=10)"
   ]
  },
  {
   "cell_type": "code",
   "execution_count": 3,
   "metadata": {},
   "outputs": [
    {
     "data": {
      "text/plain": [
       "Index(['month', 'y_1', 'f_2', 'f_3', 'f_4', 'f_5', 'f_6', 'f_7', 'f_8', 'f_9',\n",
       "       'f_10', 'f_11', 'f_12', 'f_13', 'f_14', 'f_15', 'f_16', 'f_17', 'f_18',\n",
       "       'f_19', 'f_20', 'fs_2', 'fs_3', 'fs_4', 'fs_5', 'fs_6', 'fs_7', 'fs_8',\n",
       "       'fs_9', 'fs_10', 'fs_11', 'fs_12', 'fs_13', 'fs_14', 'fs_15', 'fs_16',\n",
       "       'fs_17', 'fs_18', 'fs_19', 'fs_20', 'rx_2', 'rx_3', 'rx_4', 'rx_5',\n",
       "       'rx_6', 'rx_7', 'rx_8', 'rx_9', 'rx_10', 'rx_11', 'rx_12', 'rx_13',\n",
       "       'rx_14', 'rx_15', 'rx_16', 'rx_17', 'rx_18', 'rx_19', 'rx_20', 'rx_ew1',\n",
       "       'rx_ew2', 'year'],\n",
       "      dtype='object')"
      ]
     },
     "execution_count": 3,
     "metadata": {},
     "output_type": "execute_result"
    }
   ],
   "source": [
    "# y1 f2-10\n",
    "# rx 23457 10 ew1\n",
    "df2['year'] = df2['month'].apply(lambda x: x // 100)\n",
    "df2.columns"
   ]
  },
  {
   "cell_type": "code",
   "execution_count": 4,
   "metadata": {},
   "outputs": [],
   "source": [
    "feature_cols = ['y_1', 'f_2', 'f_3', 'f_4', 'f_5', 'f_6', 'f_7', 'f_8', 'f_9', 'f_10']\n",
    "label_cols = ['rx_2', 'rx_3', 'rx_4', 'rx_5', 'rx_7', 'rx_10', 'rx_ew1']"
   ]
  },
  {
   "cell_type": "code",
   "execution_count": 5,
   "metadata": {},
   "outputs": [],
   "source": [
    "from sklearn.linear_model import LinearRegression, Ridge\n",
    "from sklearn.tree import DecisionTreeRegressor, ExtraTreeRegressor\n",
    "from sklearn.ensemble import RandomForestRegressor\n",
    "from sklearn.metrics import r2_score\n",
    "from sklearn.preprocessing import StandardScaler\n",
    "from scipy.stats import ttest_ind"
   ]
  },
  {
   "cell_type": "code",
   "execution_count": 6,
   "metadata": {},
   "outputs": [],
   "source": [
    "model = LinearRegression()\n",
    "# model = Ridge()\n",
    "# model = DecisionTreeRegressor()\n",
    "# model = ExtraTreeRegressor()\n",
    "# model = RandomForestRegressor()"
   ]
  },
  {
   "cell_type": "code",
   "execution_count": 7,
   "metadata": {},
   "outputs": [],
   "source": [
    "# ss = StandardScaler()\n",
    "# df2[feature_cols] = ss.fit_transform(df2[feature_cols])"
   ]
  },
  {
   "cell_type": "code",
   "execution_count": 8,
   "metadata": {},
   "outputs": [],
   "source": [
    "# train = df2.iloc[-120:-12, :]\n",
    "# test = df2.iloc[-12:, :]\n",
    "\n",
    "# train = df2[df2['year'].isin([2005,\n",
    "#        2006, 2007, 2008, 2009, 2010])]\n",
    "# test = df2[df2['year'].isin([2011])]\n",
    "train = df2[df2['year'].isin([2007 + i for i in range(6)])]\n",
    "test = df2[df2['year'].isin([2007 + 6])]"
   ]
  },
  {
   "cell_type": "code",
   "execution_count": null,
   "metadata": {},
   "outputs": [
    {
     "name": "stdout",
     "output_type": "stream",
     "text": [
      "-0.9395919240497479\n",
      "0.07011068881327837\n",
      "----------\n",
      "-2.5460166640313644\n",
      "0.012724938439201656\n",
      "----------\n",
      "-2.3149428613886713\n",
      "0.003939924811669641\n",
      "----------\n",
      "-1.9678557580790397\n",
      "0.0028604674569812595\n",
      "----------\n",
      "-0.2684705988414178\n",
      "0.01566947715167001\n",
      "----------\n",
      "0.6060377988922591\n",
      "0.16105528418051346\n",
      "----------\n",
      "-0.005252338175878446\n",
      "0.03002358211207113\n",
      "----------\n"
     ]
    }
   ],
   "source": [
    "res = []\n",
    "pred = []\n",
    "for i in range(7):\n",
    "    label_idx = i\n",
    "    model.fit(train[feature_cols], train[label_cols[label_idx]])\n",
    "    res.extend()\n",
    "    print(r2_score(test[label_cols[label_idx]], model.predict(test[feature_cols])))\n",
    "    print(ttest_ind(test[label_cols[label_idx]], model.predict(test[feature_cols]))[1].item())\n",
    "    print('-' * 10)"
   ]
  },
  {
   "cell_type": "code",
   "execution_count": 2,
   "metadata": {},
   "outputs": [],
   "source": [
    "from src import Process, Config, Model\n",
    "from src.model import DeepModel"
   ]
  },
  {
   "cell_type": "code",
   "execution_count": 3,
   "metadata": {},
   "outputs": [],
   "source": [
    "p = Process(Config(start_year=2005, end_year=2008))\n",
    "model = Model()"
   ]
  },
  {
   "cell_type": "code",
   "execution_count": 3,
   "metadata": {},
   "outputs": [],
   "source": [
    "model.set_model('ols')"
   ]
  },
  {
   "cell_type": "code",
   "execution_count": 4,
   "metadata": {},
   "outputs": [],
   "source": [
    "# train, test = p.split_train_test_data(2005, 6)\n",
    "# (train_x, train_y), (test_x, test_y) = p.split_feature_label_data(train, p.feature_cols, p.label_cols[0]), p.split_feature_label_data(test, p.feature_cols, p.label_cols[0])\n",
    "# p.evaluate_period(model, (train_x, train_y, test_x, test_y))"
   ]
  },
  {
   "cell_type": "code",
   "execution_count": 14,
   "metadata": {},
   "outputs": [
    {
     "name": "stdout",
     "output_type": "stream",
     "text": [
      "(-6.391041539732214, 0.23537774893569688)\n",
      "(-8.361863746095262, 0.1568687599034128)\n",
      "(-8.24975603219122, 0.015755455059094568)\n",
      "(-7.607400917376322, 0.0023347663023325217)\n",
      "(-6.359470192163517, 0.003060142173976774)\n",
      "(-5.153132375652265, 0.020680502720928574)\n",
      "(-6.244897114962783, 0.004108376450270031)\n"
     ]
    }
   ],
   "source": [
    "p = Process(Config(start_year=2005, end_year=2016, interval=6))\n",
    "model = Model()\n",
    "p.feature_cols = ['y_1', 'f_2', 'f_3', 'f_4', 'f_5', 'f_6', 'f_7', 'f_8', 'f_9',\n",
    "       'f_10', 'fs_2', 'fs_3', 'fs_4', 'fs_5', 'fs_6', 'fs_7', 'fs_8',\n",
    "       'fs_9', 'fs_10']\n",
    "model.set_model('random_forest')\n",
    "for i in range(len(p.label_cols)):\n",
    "    result = p.evaluate(model, p.feature_cols, p.label_cols[i])\n",
    "    print(p.res_analysis(result, weight=False))"
   ]
  },
  {
   "cell_type": "code",
   "execution_count": 6,
   "metadata": {},
   "outputs": [
    {
     "name": "stdout",
     "output_type": "stream",
     "text": [
      "(0.642980712673632, 0.5346099303978011)\n",
      "(0.6115853407217784, 0.5900773391216315)\n",
      "(0.655921526857381, 0.8787275755205104)\n",
      "(0.6388234396398351, 0.7441943506677084)\n",
      "(0.5368597675393136, 0.39445635945453916)\n",
      "(0.555704368862116, 0.4402674782073911)\n",
      "(0.647918434105399, 0.6439496315043424)\n"
     ]
    }
   ],
   "source": [
    "idx = 2014\n",
    "p = Process(Config(start_year=idx, end_year=idx, interval=6))\n",
    "model = Model()\n",
    "model.set_model('ols')\n",
    "# model.set_params(dict(max_iter=10000, hidden_layer_sizes=[7, 7]))\n",
    "for i in range(len(p.label_cols)):\n",
    "    result = p.evaluate(model, p.feature_cols, p.label_cols[i])\n",
    "    print(p.res_analysis(result, weight=False))"
   ]
  },
  {
   "cell_type": "code",
   "execution_count": 7,
   "metadata": {},
   "outputs": [
    {
     "name": "stdout",
     "output_type": "stream",
     "text": [
      "(-2.03144892131799, 0.5480025980603519)\n",
      "(-0.180796422810503, 0.4737555600178379)\n",
      "(0.3022076526409726, 0.3146580199202913)\n",
      "(0.32374527350120275, 0.15398563937419146)\n",
      "(-0.3804173609594481, 0.01845794540956363)\n",
      "(-0.5889110101320811, 0.006217861587605752)\n",
      "(-0.13826818356845694, 0.03998282148536624)\n"
     ]
    }
   ],
   "source": [
    "idx = 2005\n",
    "p = Process(Config(start_year=idx, end_year=idx, interval=6))\n",
    "model = Model()\n",
    "model.set_model('ols')\n",
    "# model.set_params(dict(max_iter=10000, hidden_layer_sizes=[7, 7]))\n",
    "for i in range(len(p.label_cols)):\n",
    "    result = p.evaluate(model, p.feature_cols, p.label_cols[i])\n",
    "    print(p.res_analysis(result, weight=False))"
   ]
  },
  {
   "cell_type": "code",
   "execution_count": 8,
   "metadata": {},
   "outputs": [
    {
     "name": "stdout",
     "output_type": "stream",
     "text": [
      "(-9.677363027309685, 0.001349860759291616)\n",
      "(-1.3004669203726325, 0.006166894490862992)\n",
      "(-0.935821248134995, 0.001997261733393338)\n",
      "(-0.9005280786924601, 0.0014907992192965923)\n",
      "(-0.8242815244382189, 0.00167793495114821)\n",
      "(-1.0406871857446753, 0.0007727270796838199)\n",
      "(-0.9804628988067365, 0.0009873580352426923)\n"
     ]
    }
   ],
   "source": [
    "idx = 2006\n",
    "p = Process(Config(start_year=idx, end_year=idx, interval=6))\n",
    "model = Model()\n",
    "model.set_model('ols')\n",
    "# model.set_params(dict(max_iter=10000, hidden_layer_sizes=[7, 7]))\n",
    "for i in range(len(p.label_cols)):\n",
    "    result = p.evaluate(model, p.feature_cols, p.label_cols[i])\n",
    "    print(p.res_analysis(result, weight=False))"
   ]
  },
  {
   "cell_type": "code",
   "execution_count": 2,
   "metadata": {},
   "outputs": [],
   "source": [
    "from src import Process, Model, Config\n",
    "from src.model_config import BASE_MODEL_CONFIG, MACRO_MODEL_CONFIG, GROUP_MODEL_CONFIG\n",
    "\n",
    "cfg = Config()\n",
    "p = Process(cfg)\n",
    "model = Model()"
   ]
  },
  {
   "cell_type": "code",
   "execution_count": null,
   "metadata": {},
   "outputs": [],
   "source": [
    "for model_config in GROUP_MODEL_CONFIG:\n",
    "    task_name = model_config['name']\n",
    "    model_name = model_config['config']['model']\n",
    "    params = model_config['config']['params']\n",
    "\n",
    "    model.set_params(params)\n",
    "    model.set_model(model_name)\n",
    "    print('#' * 20)\n",
    "    print(task_name)\n",
    "    print('#' * 20)\n",
    "    p.show_group_bond_risk(model)"
   ]
  },
  {
   "cell_type": "code",
   "execution_count": 2,
   "metadata": {},
   "outputs": [],
   "source": [
    "p.concat_cp_factor(True)"
   ]
  },
  {
   "cell_type": "code",
   "execution_count": 5,
   "metadata": {},
   "outputs": [
    {
     "name": "stdout",
     "output_type": "stream",
     "text": [
      "CER: -4.653453573536614\n"
     ]
    }
   ],
   "source": [
    "import pandas as pd\n",
    "import numpy as np\n",
    "from sklearn.model_selection import train_test_split\n",
    "from sklearn.ensemble import RandomForestRegressor, GradientBoostingRegressor\n",
    "from sklearn.neural_network import MLPRegressor\n",
    "from scipy.optimize import minimize\n",
    "\n",
    "predictions = p.df2[p.label_cols[-1]].values[-12:]\n",
    "\n",
    "# 计算CER\n",
    "def objective(weights):\n",
    "    portfolio_return = np.dot(predictions, weights)\n",
    "    portfolio_variance = np.dot(weights.T, np.dot(np.cov(predictions, rowvar=False), weights))\n",
    "    return -np.mean(portfolio_return) + 0.5 * 5 * portfolio_variance  # 假设风险厌恶系数为5\n",
    "\n",
    "constraints = ({'type': 'eq', 'fun': lambda x: np.sum(x) - 1})  # 权重和为1\n",
    "bounds = tuple((0, 1) for _ in range(len(predictions)))\n",
    "initial_guess = np.ones(len(predictions)) / len(predictions)\n",
    "\n",
    "result = minimize(objective, initial_guess, method='SLSQP', bounds=bounds, constraints=constraints)\n",
    "cer = -result.fun  # 最大化效用，所以取负数\n",
    "\n",
    "print(f\"CER: {cer}\")"
   ]
  },
  {
   "cell_type": "code",
   "execution_count": 17,
   "metadata": {},
   "outputs": [],
   "source": [
    "returns = p.df2[p.label_cols[-1]].values[-12:]"
   ]
  },
  {
   "cell_type": "code",
   "execution_count": 3,
   "metadata": {},
   "outputs": [
    {
     "data": {
      "text/plain": [
       "['rx_2', 'rx_3', 'rx_4', 'rx_5', 'rx_7', 'rx_10', 'rx_ew1']"
      ]
     },
     "execution_count": 3,
     "metadata": {},
     "output_type": "execute_result"
    }
   ],
   "source": [
    "p.label_cols"
   ]
  },
  {
   "cell_type": "code",
   "execution_count": 1,
   "metadata": {},
   "outputs": [
    {
     "name": "stdout",
     "output_type": "stream",
     "text": [
      "Fwd rates:\n",
      "rx_2\n",
      "####################\n",
      "Neural net\n",
      "####################\n",
      "####################\n",
      "Extreme tree\n",
      "####################\n",
      "rx_10\n",
      "####################\n",
      "Neural net\n",
      "####################\n",
      "####################\n",
      "Extreme tree\n",
      "####################\n",
      "rx_ew1\n",
      "####################\n",
      "Neural net\n",
      "####################\n",
      "####################\n",
      "Extreme tree\n",
      "####################\n",
      "Fwd rates + Macro\n",
      "rx_2\n",
      "####################\n",
      "Neural net\n",
      "####################\n",
      "####################\n",
      "Extreme tree\n",
      "####################\n",
      "rx_10\n",
      "####################\n",
      "Neural net\n",
      "####################\n",
      "####################\n",
      "Extreme tree\n",
      "####################\n",
      "rx_ew1\n",
      "####################\n",
      "Neural net\n",
      "####################\n",
      "####################\n",
      "Extreme tree\n",
      "####################\n"
     ]
    }
   ],
   "source": [
    "import seaborn as sns\n",
    "import matplotlib.pyplot as plt\n",
    "import pandas as pd\n",
    "from sklearn.preprocessing import StandardScaler\n",
    "from src import Process, Model, Config\n",
    "from src.model_config import BASE_MODEL_CONFIG, MACRO_MODEL_CONFIG, GROUP_MODEL_CONFIG, PLOT_MODEL_CONFIG, UTILITY_MODEL_CONFIG\n",
    "cfg = Config()\n",
    "p = Process(cfg)\n",
    "model = Model()\n",
    "\n",
    "print('Fwd rates:')\n",
    "r1 = p.show_utility_bond_risk(model, UTILITY_MODEL_CONFIG)\n",
    "print('Fwd rates + Macro')\n",
    "p.concat_cp_factor()\n",
    "r2 = p.show_utility_bond_risk(model, UTILITY_MODEL_CONFIG)"
   ]
  },
  {
   "cell_type": "code",
   "execution_count": 2,
   "metadata": {},
   "outputs": [],
   "source": [
    "import pandas as pd"
   ]
  },
  {
   "cell_type": "code",
   "execution_count": 4,
   "metadata": {},
   "outputs": [],
   "source": [
    "r1 = pd.DataFrame(r1)\n",
    "r1['type'] = 'Fwd rates'\n",
    "r2 = pd.DataFrame(r2)\n",
    "r2['type'] = 'Fwd rates + Macro'"
   ]
  },
  {
   "cell_type": "code",
   "execution_count": 5,
   "metadata": {},
   "outputs": [],
   "source": [
    "r = pd.concat([r1, r2])"
   ]
  },
  {
   "cell_type": "code",
   "execution_count": 13,
   "metadata": {},
   "outputs": [],
   "source": [
    "r.reset_index(drop=True, inplace=True)"
   ]
  },
  {
   "cell_type": "code",
   "execution_count": 33,
   "metadata": {},
   "outputs": [
    {
     "data": {
      "text/plain": [
       "0     0.022361\n",
       "1     0.018997\n",
       "2     0.022416\n",
       "3     0.033128\n",
       "4     0.023800\n",
       "5     0.025253\n",
       "6     0.073128\n",
       "7     0.080999\n",
       "8     0.026121\n",
       "9     0.053541\n",
       "10    0.034398\n",
       "11    0.086593\n",
       "dtype: float64"
      ]
     },
     "execution_count": 33,
     "metadata": {},
     "output_type": "execute_result"
    }
   ],
   "source": [
    "r.apply(lambda x: p.cal_p_value(np.concatenate([x['y_true'], [x['mvu_true']]]), np.concatenate([x['y_pred'], [x['mvu_pred']]])), axis=1)"
   ]
  },
  {
   "cell_type": "code",
   "execution_count": 44,
   "metadata": {},
   "outputs": [],
   "source": [
    "r['mvu'] = r['mvu_pred'] - r['mvu_true']\n",
    "r['pu'] = r['pu_pred'] - r['pu_true']\n",
    "r['p_value'] = r.apply(lambda x: p.cal_p_value(np.concatenate([x['y_true'], [x['mvu_true']]]), np.concatenate([x['y_pred'], [x['mvu_pred']]])), axis=1)"
   ]
  },
  {
   "cell_type": "code",
   "execution_count": 45,
   "metadata": {},
   "outputs": [
    {
     "data": {
      "text/html": [
       "<div>\n",
       "<style scoped>\n",
       "    .dataframe tbody tr th:only-of-type {\n",
       "        vertical-align: middle;\n",
       "    }\n",
       "\n",
       "    .dataframe tbody tr th {\n",
       "        vertical-align: top;\n",
       "    }\n",
       "\n",
       "    .dataframe thead th {\n",
       "        text-align: right;\n",
       "    }\n",
       "</style>\n",
       "<table border=\"1\" class=\"dataframe\">\n",
       "  <thead>\n",
       "    <tr style=\"text-align: right;\">\n",
       "      <th></th>\n",
       "      <th>label</th>\n",
       "      <th>task_name</th>\n",
       "      <th>y_true</th>\n",
       "      <th>y_pred</th>\n",
       "      <th>mvu_pred</th>\n",
       "      <th>mvu_true</th>\n",
       "      <th>pu_pred</th>\n",
       "      <th>pu_true</th>\n",
       "      <th>type</th>\n",
       "      <th>mvu</th>\n",
       "      <th>pu</th>\n",
       "      <th>p_value</th>\n",
       "    </tr>\n",
       "  </thead>\n",
       "  <tbody>\n",
       "    <tr>\n",
       "      <th>4</th>\n",
       "      <td>rx_ew1</td>\n",
       "      <td>Neural net</td>\n",
       "      <td>[8.11037147705568, 8.11272094145214, 7.7786477...</td>\n",
       "      <td>[6.33694858874515, 5.710267287343045, 5.019307...</td>\n",
       "      <td>4.776455</td>\n",
       "      <td>4.712825</td>\n",
       "      <td>-0.157805</td>\n",
       "      <td>-0.123281</td>\n",
       "      <td>Fwd rates</td>\n",
       "      <td>0.063631</td>\n",
       "      <td>-0.034524</td>\n",
       "      <td>0.023800</td>\n",
       "    </tr>\n",
       "    <tr>\n",
       "      <th>5</th>\n",
       "      <td>rx_ew1</td>\n",
       "      <td>Extreme tree</td>\n",
       "      <td>[8.11037147705568, 8.11272094145214, 7.7786477...</td>\n",
       "      <td>[5.11746032879695, 5.11746032879695, 4.7506750...</td>\n",
       "      <td>4.502045</td>\n",
       "      <td>4.712825</td>\n",
       "      <td>-0.156753</td>\n",
       "      <td>-0.123281</td>\n",
       "      <td>Fwd rates</td>\n",
       "      <td>-0.210779</td>\n",
       "      <td>-0.033473</td>\n",
       "      <td>0.025253</td>\n",
       "    </tr>\n",
       "    <tr>\n",
       "      <th>10</th>\n",
       "      <td>rx_ew1</td>\n",
       "      <td>Neural net</td>\n",
       "      <td>[8.11037147705568, 8.11272094145214, 7.7786477...</td>\n",
       "      <td>[2.9911467662730806, 2.9911467662730806, 2.991...</td>\n",
       "      <td>6.513284</td>\n",
       "      <td>4.712825</td>\n",
       "      <td>-0.079906</td>\n",
       "      <td>-0.123281</td>\n",
       "      <td>Fwd rates + Macro</td>\n",
       "      <td>1.800460</td>\n",
       "      <td>0.043375</td>\n",
       "      <td>0.034398</td>\n",
       "    </tr>\n",
       "    <tr>\n",
       "      <th>11</th>\n",
       "      <td>rx_ew1</td>\n",
       "      <td>Extreme tree</td>\n",
       "      <td>[8.11037147705568, 8.11272094145214, 7.7786477...</td>\n",
       "      <td>[4.75067507378171, 4.75067507378171, 4.7506750...</td>\n",
       "      <td>4.577934</td>\n",
       "      <td>4.712825</td>\n",
       "      <td>-0.125068</td>\n",
       "      <td>-0.123281</td>\n",
       "      <td>Fwd rates + Macro</td>\n",
       "      <td>-0.134891</td>\n",
       "      <td>-0.001787</td>\n",
       "      <td>0.086593</td>\n",
       "    </tr>\n",
       "    <tr>\n",
       "      <th>0</th>\n",
       "      <td>rx_2</td>\n",
       "      <td>Neural net</td>\n",
       "      <td>[0.67837017497017, 0.830065081255271, 1.055597...</td>\n",
       "      <td>[0.6878864288763894, 0.7630974984836788, 0.698...</td>\n",
       "      <td>0.923479</td>\n",
       "      <td>1.314154</td>\n",
       "      <td>-1.065274</td>\n",
       "      <td>-0.497071</td>\n",
       "      <td>Fwd rates</td>\n",
       "      <td>-0.390676</td>\n",
       "      <td>-0.568203</td>\n",
       "      <td>0.022361</td>\n",
       "    </tr>\n",
       "    <tr>\n",
       "      <th>1</th>\n",
       "      <td>rx_2</td>\n",
       "      <td>Extreme tree</td>\n",
       "      <td>[0.67837017497017, 0.830065081255271, 1.055597...</td>\n",
       "      <td>[0.689527994215603, 0.830021420322375, 0.86149...</td>\n",
       "      <td>1.269683</td>\n",
       "      <td>1.314154</td>\n",
       "      <td>-0.691664</td>\n",
       "      <td>-0.497071</td>\n",
       "      <td>Fwd rates</td>\n",
       "      <td>-0.044472</td>\n",
       "      <td>-0.194593</td>\n",
       "      <td>0.018997</td>\n",
       "    </tr>\n",
       "    <tr>\n",
       "      <th>6</th>\n",
       "      <td>rx_2</td>\n",
       "      <td>Neural net</td>\n",
       "      <td>[0.67837017497017, 0.830065081255271, 1.055597...</td>\n",
       "      <td>[0.752230851156848, 0.752230851156848, 0.75223...</td>\n",
       "      <td>0.848340</td>\n",
       "      <td>1.314154</td>\n",
       "      <td>-0.785178</td>\n",
       "      <td>-0.497071</td>\n",
       "      <td>Fwd rates + Macro</td>\n",
       "      <td>-0.465814</td>\n",
       "      <td>-0.288107</td>\n",
       "      <td>0.073128</td>\n",
       "    </tr>\n",
       "    <tr>\n",
       "      <th>7</th>\n",
       "      <td>rx_2</td>\n",
       "      <td>Extreme tree</td>\n",
       "      <td>[0.67837017497017, 0.830065081255271, 1.055597...</td>\n",
       "      <td>[0.830021420322375, 0.733610137697043, 1.53147...</td>\n",
       "      <td>1.209900</td>\n",
       "      <td>1.314154</td>\n",
       "      <td>-10.000000</td>\n",
       "      <td>-0.497071</td>\n",
       "      <td>Fwd rates + Macro</td>\n",
       "      <td>-0.104254</td>\n",
       "      <td>-9.502929</td>\n",
       "      <td>0.080999</td>\n",
       "    </tr>\n",
       "    <tr>\n",
       "      <th>2</th>\n",
       "      <td>rx_10</td>\n",
       "      <td>Neural net</td>\n",
       "      <td>[20.4665665891396, 19.2833420858452, 17.239550...</td>\n",
       "      <td>[13.000981460501999, 11.822718333980118, 10.47...</td>\n",
       "      <td>8.998720</td>\n",
       "      <td>8.122680</td>\n",
       "      <td>-0.076917</td>\n",
       "      <td>-0.049167</td>\n",
       "      <td>Fwd rates</td>\n",
       "      <td>0.876040</td>\n",
       "      <td>-0.027750</td>\n",
       "      <td>0.022416</td>\n",
       "    </tr>\n",
       "    <tr>\n",
       "      <th>3</th>\n",
       "      <td>rx_10</td>\n",
       "      <td>Extreme tree</td>\n",
       "      <td>[20.4665665891396, 19.2833420858452, 17.239550...</td>\n",
       "      <td>[10.477112711471, 10.477112711471, 8.732047493...</td>\n",
       "      <td>8.250202</td>\n",
       "      <td>8.122680</td>\n",
       "      <td>-0.051117</td>\n",
       "      <td>-0.049167</td>\n",
       "      <td>Fwd rates</td>\n",
       "      <td>0.127523</td>\n",
       "      <td>-0.001950</td>\n",
       "      <td>0.033128</td>\n",
       "    </tr>\n",
       "    <tr>\n",
       "      <th>8</th>\n",
       "      <td>rx_10</td>\n",
       "      <td>Neural net</td>\n",
       "      <td>[20.4665665891396, 19.2833420858452, 17.239550...</td>\n",
       "      <td>[5.246471739092158, 5.246471739092158, 5.24647...</td>\n",
       "      <td>6.124762</td>\n",
       "      <td>8.122680</td>\n",
       "      <td>-0.085800</td>\n",
       "      <td>-0.049167</td>\n",
       "      <td>Fwd rates + Macro</td>\n",
       "      <td>-1.997918</td>\n",
       "      <td>-0.036633</td>\n",
       "      <td>0.026121</td>\n",
       "    </tr>\n",
       "    <tr>\n",
       "      <th>9</th>\n",
       "      <td>rx_10</td>\n",
       "      <td>Extreme tree</td>\n",
       "      <td>[20.4665665891396, 19.2833420858452, 17.239550...</td>\n",
       "      <td>[18.8321849966878, 18.8321849966878, 18.832184...</td>\n",
       "      <td>13.240535</td>\n",
       "      <td>8.122680</td>\n",
       "      <td>-0.048860</td>\n",
       "      <td>-0.049167</td>\n",
       "      <td>Fwd rates + Macro</td>\n",
       "      <td>5.117855</td>\n",
       "      <td>0.000307</td>\n",
       "      <td>0.053541</td>\n",
       "    </tr>\n",
       "  </tbody>\n",
       "</table>\n",
       "</div>"
      ],
      "text/plain": [
       "     label     task_name                                             y_true  \\\n",
       "4   rx_ew1    Neural net  [8.11037147705568, 8.11272094145214, 7.7786477...   \n",
       "5   rx_ew1  Extreme tree  [8.11037147705568, 8.11272094145214, 7.7786477...   \n",
       "10  rx_ew1    Neural net  [8.11037147705568, 8.11272094145214, 7.7786477...   \n",
       "11  rx_ew1  Extreme tree  [8.11037147705568, 8.11272094145214, 7.7786477...   \n",
       "0     rx_2    Neural net  [0.67837017497017, 0.830065081255271, 1.055597...   \n",
       "1     rx_2  Extreme tree  [0.67837017497017, 0.830065081255271, 1.055597...   \n",
       "6     rx_2    Neural net  [0.67837017497017, 0.830065081255271, 1.055597...   \n",
       "7     rx_2  Extreme tree  [0.67837017497017, 0.830065081255271, 1.055597...   \n",
       "2    rx_10    Neural net  [20.4665665891396, 19.2833420858452, 17.239550...   \n",
       "3    rx_10  Extreme tree  [20.4665665891396, 19.2833420858452, 17.239550...   \n",
       "8    rx_10    Neural net  [20.4665665891396, 19.2833420858452, 17.239550...   \n",
       "9    rx_10  Extreme tree  [20.4665665891396, 19.2833420858452, 17.239550...   \n",
       "\n",
       "                                               y_pred   mvu_pred  mvu_true  \\\n",
       "4   [6.33694858874515, 5.710267287343045, 5.019307...   4.776455  4.712825   \n",
       "5   [5.11746032879695, 5.11746032879695, 4.7506750...   4.502045  4.712825   \n",
       "10  [2.9911467662730806, 2.9911467662730806, 2.991...   6.513284  4.712825   \n",
       "11  [4.75067507378171, 4.75067507378171, 4.7506750...   4.577934  4.712825   \n",
       "0   [0.6878864288763894, 0.7630974984836788, 0.698...   0.923479  1.314154   \n",
       "1   [0.689527994215603, 0.830021420322375, 0.86149...   1.269683  1.314154   \n",
       "6   [0.752230851156848, 0.752230851156848, 0.75223...   0.848340  1.314154   \n",
       "7   [0.830021420322375, 0.733610137697043, 1.53147...   1.209900  1.314154   \n",
       "2   [13.000981460501999, 11.822718333980118, 10.47...   8.998720  8.122680   \n",
       "3   [10.477112711471, 10.477112711471, 8.732047493...   8.250202  8.122680   \n",
       "8   [5.246471739092158, 5.246471739092158, 5.24647...   6.124762  8.122680   \n",
       "9   [18.8321849966878, 18.8321849966878, 18.832184...  13.240535  8.122680   \n",
       "\n",
       "      pu_pred   pu_true               type       mvu        pu   p_value  \n",
       "4   -0.157805 -0.123281          Fwd rates  0.063631 -0.034524  0.023800  \n",
       "5   -0.156753 -0.123281          Fwd rates -0.210779 -0.033473  0.025253  \n",
       "10  -0.079906 -0.123281  Fwd rates + Macro  1.800460  0.043375  0.034398  \n",
       "11  -0.125068 -0.123281  Fwd rates + Macro -0.134891 -0.001787  0.086593  \n",
       "0   -1.065274 -0.497071          Fwd rates -0.390676 -0.568203  0.022361  \n",
       "1   -0.691664 -0.497071          Fwd rates -0.044472 -0.194593  0.018997  \n",
       "6   -0.785178 -0.497071  Fwd rates + Macro -0.465814 -0.288107  0.073128  \n",
       "7  -10.000000 -0.497071  Fwd rates + Macro -0.104254 -9.502929  0.080999  \n",
       "2   -0.076917 -0.049167          Fwd rates  0.876040 -0.027750  0.022416  \n",
       "3   -0.051117 -0.049167          Fwd rates  0.127523 -0.001950  0.033128  \n",
       "8   -0.085800 -0.049167  Fwd rates + Macro -1.997918 -0.036633  0.026121  \n",
       "9   -0.048860 -0.049167  Fwd rates + Macro  5.117855  0.000307  0.053541  "
      ]
     },
     "execution_count": 45,
     "metadata": {},
     "output_type": "execute_result"
    }
   ],
   "source": [
    "r.sort_values('label', ascending=False)"
   ]
  },
  {
   "cell_type": "code",
   "execution_count": 47,
   "metadata": {},
   "outputs": [],
   "source": [
    "tmp = r[(r['label'] == 'rx_2') & (r['task_name'] == 'Neural net')].copy()\n"
   ]
  },
  {
   "cell_type": "code",
   "execution_count": 49,
   "metadata": {},
   "outputs": [
    {
     "data": {
      "text/plain": [
       "array([-0.07513856])"
      ]
     },
     "execution_count": 49,
     "metadata": {},
     "output_type": "execute_result"
    }
   ],
   "source": [
    "mvu = tmp[tmp['type'] == 'Fwd rates + Macro']['mvu'].values - tmp[tmp['type'] == 'Fwd rates']['mvu'].values\n",
    "mvu"
   ]
  },
  {
   "cell_type": "code",
   "execution_count": null,
   "metadata": {},
   "outputs": [],
   "source": []
  }
 ],
 "metadata": {
  "kernelspec": {
   "display_name": "base",
   "language": "python",
   "name": "python3"
  },
  "language_info": {
   "codemirror_mode": {
    "name": "ipython",
    "version": 3
   },
   "file_extension": ".py",
   "mimetype": "text/x-python",
   "name": "python",
   "nbconvert_exporter": "python",
   "pygments_lexer": "ipython3",
   "version": "3.7.3"
  }
 },
 "nbformat": 4,
 "nbformat_minor": 2
}
