{
 "cells": [
  {
   "cell_type": "code",
   "execution_count": 1,
   "metadata": {},
   "outputs": [
    {
     "name": "stderr",
     "output_type": "stream",
     "text": [
      "e:\\anaconda3\\lib\\site-packages\\past\\types\\oldstr.py:5: DeprecationWarning: Using or importing the ABCs from 'collections' instead of from 'collections.abc' is deprecated, and in 3.8 it will stop working\n",
      "  from collections import Iterable\n",
      "C:\\Users\\studyhard\\AppData\\Roaming\\Python\\Python37\\site-packages\\openpyxl\\compat\\numbers.py:41: DeprecationWarning: `np.float` is a deprecated alias for the builtin `float`. To silence this warning, use `float` by itself. Doing this will not modify any behavior and is safe. If you specifically wanted the numpy scalar type, use `np.float64` here.\n",
      "Deprecated in NumPy 1.20; for more details and guidance: https://numpy.org/devdocs/release/1.20.0-notes.html#deprecations\n",
      "  numpy.float,\n",
      "C:\\Users\\studyhard\\AppData\\Roaming\\Python\\Python37\\site-packages\\openpyxl\\xml\\functions.py:30: DeprecationWarning: defusedxml.lxml is no longer supported and will be removed in a future release.\n",
      "  from defusedxml.lxml import fromstring as _fromstring, tostring\n",
      "Building prefix dict from the default dictionary ...\n",
      "Loading model from cache C:\\Users\\STUDYH~1\\AppData\\Local\\Temp\\jieba.cache\n",
      "Loading model cost 0.614 seconds.\n",
      "Prefix dict has been built succesfully.\n"
     ]
    }
   ],
   "source": [
    "import warnings\n",
    "warnings.filterwarnings('ignore')\n",
    "import pandas as pd\n",
    "from src.process.data_process import Process, topic_show, pylda_show\n",
    "df = pd.read_excel('./data/zhanshi.xlsx')\n",
    "p = Process(df)"
   ]
  },
  {
   "cell_type": "code",
   "execution_count": 2,
   "metadata": {},
   "outputs": [
    {
     "data": {
      "text/plain": [
       "0        新国学网:中新时评：新疆棉花岂能与“强迫劳动”H&amp;M、耐克、阿迪达斯等国际服装品牌及...\n",
       "1        BCI3月初称未发现新疆有强迫劳动事件【BCI3月初称未发现新疆有强迫劳动事件】财联社3月2...\n",
       "2        BCI3月初称未发现新疆有强迫劳动事件【BCI3月初称未发现新疆有强迫劳动事件】财联社3月2...\n",
       "3        #日前，瑞典H&M服装公司发布通告称：#新疆地区存在强迫劳动和歧视少数民族宗教的行为，因此决...\n",
       "4        BCI上海办事处：未在新疆发现强迫劳动，品牌行为与其无关BCI上海办事处一名员工回应，BCI...\n",
       "                               ...                        \n",
       "57553    我以前给耐克李宁代工厂做过IT服务，这就是个劳动密集型产业，大部分归功于营销我2000年前后...\n",
       "57554    新疆今年建设1.7万个5G基站新疆日报讯（记者范琼燕报道）记者从新疆通信管理局了解到：今年，...\n",
       "57555    [笔记]新疆游记 - 首码网[笔记]新疆游记网站大全2021-03-26 12:00:10发...\n",
       "57556    Nike发声要与“新疆棉”划清界限,引起众怒,代言人纷纷与其解约品牌Nike在去年7月份的时...\n",
       "57557    不可能阻挡新疆棉花的幸福！黑手！不可能阻挡新疆棉花的幸福！棉花最近很忙！农报君观察到，不是因...\n",
       "Name: text, Length: 57558, dtype: object"
      ]
     },
     "execution_count": 2,
     "metadata": {},
     "output_type": "execute_result"
    }
   ],
   "source": [
    "p.df['text']"
   ]
  },
  {
   "cell_type": "code",
   "execution_count": 3,
   "metadata": {},
   "outputs": [],
   "source": [
    "p.df['date'] = p.df['发布时间'].apply(lambda x: str(x)[:10])"
   ]
  },
  {
   "cell_type": "code",
   "execution_count": 32,
   "metadata": {},
   "outputs": [
    {
     "data": {
      "text/html": [
       "<div>\n",
       "<style scoped>\n",
       "    .dataframe tbody tr th:only-of-type {\n",
       "        vertical-align: middle;\n",
       "    }\n",
       "\n",
       "    .dataframe tbody tr th {\n",
       "        vertical-align: top;\n",
       "    }\n",
       "\n",
       "    .dataframe thead th {\n",
       "        text-align: right;\n",
       "    }\n",
       "</style>\n",
       "<table border=\"1\" class=\"dataframe\">\n",
       "  <thead>\n",
       "    <tr style=\"text-align: right;\">\n",
       "      <th></th>\n",
       "      <th>text</th>\n",
       "      <th>source</th>\n",
       "      <th>date</th>\n",
       "    </tr>\n",
       "  </thead>\n",
       "  <tbody>\n",
       "    <tr>\n",
       "      <th>0</th>\n",
       "      <td>新国学网:中新时评：新疆棉花岂能与“强迫劳动”H&amp;amp;M、耐克、阿迪达斯等国际服装品牌及...</td>\n",
       "      <td>官媒</td>\n",
       "      <td>2021-03-25</td>\n",
       "    </tr>\n",
       "    <tr>\n",
       "      <th>1</th>\n",
       "      <td>BCI3月初称未发现新疆有强迫劳动事件【BCI3月初称未发现新疆有强迫劳动事件】财联社3月2...</td>\n",
       "      <td>网媒</td>\n",
       "      <td>2021-03-25</td>\n",
       "    </tr>\n",
       "    <tr>\n",
       "      <th>2</th>\n",
       "      <td>BCI3月初称未发现新疆有强迫劳动事件【BCI3月初称未发现新疆有强迫劳动事件】财联社3月2...</td>\n",
       "      <td>网媒</td>\n",
       "      <td>2021-03-25</td>\n",
       "    </tr>\n",
       "    <tr>\n",
       "      <th>3</th>\n",
       "      <td>#日前，瑞典H&amp;M服装公司发布通告称：#新疆地区存在强迫劳动和歧视少数民族宗教的行为，因此决...</td>\n",
       "      <td>网媒</td>\n",
       "      <td>2021-03-24</td>\n",
       "    </tr>\n",
       "    <tr>\n",
       "      <th>4</th>\n",
       "      <td>BCI上海办事处：未在新疆发现强迫劳动，品牌行为与其无关BCI上海办事处一名员工回应，BCI...</td>\n",
       "      <td>网媒</td>\n",
       "      <td>2021-03-25</td>\n",
       "    </tr>\n",
       "    <tr>\n",
       "      <th>...</th>\n",
       "      <td>...</td>\n",
       "      <td>...</td>\n",
       "      <td>...</td>\n",
       "    </tr>\n",
       "    <tr>\n",
       "      <th>57553</th>\n",
       "      <td>我以前给耐克李宁代工厂做过IT服务，这就是个劳动密集型产业，大部分归功于营销我2000年前后...</td>\n",
       "      <td>网媒</td>\n",
       "      <td>2021-03-26</td>\n",
       "    </tr>\n",
       "    <tr>\n",
       "      <th>57554</th>\n",
       "      <td>新疆今年建设1.7万个5G基站新疆日报讯（记者范琼燕报道）记者从新疆通信管理局了解到：今年，...</td>\n",
       "      <td>官媒</td>\n",
       "      <td>2021-03-26</td>\n",
       "    </tr>\n",
       "    <tr>\n",
       "      <th>57555</th>\n",
       "      <td>[笔记]新疆游记 - 首码网[笔记]新疆游记网站大全2021-03-26 12:00:10发...</td>\n",
       "      <td>网媒</td>\n",
       "      <td>2021-03-26</td>\n",
       "    </tr>\n",
       "    <tr>\n",
       "      <th>57556</th>\n",
       "      <td>Nike发声要与“新疆棉”划清界限,引起众怒,代言人纷纷与其解约品牌Nike在去年7月份的时...</td>\n",
       "      <td>网媒</td>\n",
       "      <td>2021-03-26</td>\n",
       "    </tr>\n",
       "    <tr>\n",
       "      <th>57557</th>\n",
       "      <td>不可能阻挡新疆棉花的幸福！黑手！不可能阻挡新疆棉花的幸福！棉花最近很忙！农报君观察到，不是因...</td>\n",
       "      <td>官媒</td>\n",
       "      <td>2021-03-26</td>\n",
       "    </tr>\n",
       "  </tbody>\n",
       "</table>\n",
       "<p>57558 rows × 3 columns</p>\n",
       "</div>"
      ],
      "text/plain": [
       "                                                    text source        date\n",
       "0      新国学网:中新时评：新疆棉花岂能与“强迫劳动”H&amp;M、耐克、阿迪达斯等国际服装品牌及...     官媒  2021-03-25\n",
       "1      BCI3月初称未发现新疆有强迫劳动事件【BCI3月初称未发现新疆有强迫劳动事件】财联社3月2...     网媒  2021-03-25\n",
       "2      BCI3月初称未发现新疆有强迫劳动事件【BCI3月初称未发现新疆有强迫劳动事件】财联社3月2...     网媒  2021-03-25\n",
       "3      #日前，瑞典H&M服装公司发布通告称：#新疆地区存在强迫劳动和歧视少数民族宗教的行为，因此决...     网媒  2021-03-24\n",
       "4      BCI上海办事处：未在新疆发现强迫劳动，品牌行为与其无关BCI上海办事处一名员工回应，BCI...     网媒  2021-03-25\n",
       "...                                                  ...    ...         ...\n",
       "57553  我以前给耐克李宁代工厂做过IT服务，这就是个劳动密集型产业，大部分归功于营销我2000年前后...     网媒  2021-03-26\n",
       "57554  新疆今年建设1.7万个5G基站新疆日报讯（记者范琼燕报道）记者从新疆通信管理局了解到：今年，...     官媒  2021-03-26\n",
       "57555  [笔记]新疆游记 - 首码网[笔记]新疆游记网站大全2021-03-26 12:00:10发...     网媒  2021-03-26\n",
       "57556  Nike发声要与“新疆棉”划清界限,引起众怒,代言人纷纷与其解约品牌Nike在去年7月份的时...     网媒  2021-03-26\n",
       "57557  不可能阻挡新疆棉花的幸福！黑手！不可能阻挡新疆棉花的幸福！棉花最近很忙！农报君观察到，不是因...     官媒  2021-03-26\n",
       "\n",
       "[57558 rows x 3 columns]"
      ]
     },
     "execution_count": 32,
     "metadata": {},
     "output_type": "execute_result"
    }
   ],
   "source": [
    "p.df[['text', 'source', 'date']]"
   ]
  },
  {
   "cell_type": "code",
   "execution_count": 34,
   "metadata": {},
   "outputs": [],
   "source": [
    "import pickle\n",
    "with open('./assets/model_score.pkl', 'rb') as f:\n",
    "            sentiment_score = pickle.load(f)"
   ]
  },
  {
   "cell_type": "code",
   "execution_count": 38,
   "metadata": {},
   "outputs": [],
   "source": [
    "score = pd.DataFrame(sentiment_score, columns=['pos_score', 'neu_socre', 'neg_score'])\n",
    "df = pd.concat([p.df[['text', 'source', 'date']], score], axis=1)"
   ]
  },
  {
   "cell_type": "code",
   "execution_count": 44,
   "metadata": {},
   "outputs": [],
   "source": [
    "documents = p.split_documents(df['text'])"
   ]
  },
  {
   "cell_type": "code",
   "execution_count": 47,
   "metadata": {},
   "outputs": [],
   "source": [
    "df['tokens'] = documents"
   ]
  },
  {
   "cell_type": "code",
   "execution_count": 49,
   "metadata": {},
   "outputs": [],
   "source": [
    "df.sample(len(df), random_state=42).to_excel('clean_data.xlsx', index=False)"
   ]
  },
  {
   "cell_type": "code",
   "execution_count": 5,
   "metadata": {},
   "outputs": [],
   "source": [
    "df = pd.read_excel('../数据集.xlsx')"
   ]
  },
  {
   "cell_type": "code",
   "execution_count": 9,
   "metadata": {},
   "outputs": [],
   "source": [
    "df['detail_source'] = p.df['信息来源'].sample(len(p.df), random_state=42).tolist()"
   ]
  },
  {
   "cell_type": "code",
   "execution_count": 11,
   "metadata": {},
   "outputs": [],
   "source": [
    "df.to_excel('clean_data.xlsx', index=False)"
   ]
  },
  {
   "cell_type": "code",
   "execution_count": null,
   "metadata": {},
   "outputs": [],
   "source": []
  }
 ],
 "metadata": {
  "kernelspec": {
   "display_name": "Python 3",
   "language": "python",
   "name": "python3"
  },
  "language_info": {
   "codemirror_mode": {
    "name": "ipython",
    "version": 3
   },
   "file_extension": ".py",
   "mimetype": "text/x-python",
   "name": "python",
   "nbconvert_exporter": "python",
   "pygments_lexer": "ipython3",
   "version": "3.7.3"
  }
 },
 "nbformat": 4,
 "nbformat_minor": 4
}
