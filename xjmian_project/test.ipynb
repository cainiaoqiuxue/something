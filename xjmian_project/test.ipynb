{
 "cells": [
  {
   "cell_type": "code",
   "execution_count": 1,
   "metadata": {},
   "outputs": [],
   "source": [
    "# from src.spider import XinHuaSpider\n",
    "# from src.spider.yangshi import YangShiSpider\n",
    "# from src.spider.zhongqing import ZhongQingSpider\n",
    "# from src.spider.guangming import GuangMingSpider\n",
    "# from src.spider.renmin import RenMinSpider\n",
    "# from src.spider.zhongxin import ZhongXinSpider\n",
    "# from src.spider.tengxunnews import TengXunNewsSpider\n",
    "# from src.spider.baidu import BaiDuSpider\n",
    "# from src.spider.sougou import SouGouSpider\n",
    "# from src.spider.douban import DouBanSpider\n",
    "from src.spider.tieba import TieBaSpider\n",
    "\n",
    "rm = TieBaSpider()"
   ]
  },
  {
   "cell_type": "code",
   "execution_count": null,
   "metadata": {},
   "outputs": [],
   "source": [
    "rm('新疆棉花', 5)"
   ]
  },
  {
   "cell_type": "code",
   "execution_count": 2,
   "metadata": {},
   "outputs": [],
   "source": [
    "url = rm.get_url('地方', 2)\n",
    "rm.driver.get(url)"
   ]
  },
  {
   "cell_type": "code",
   "execution_count": 3,
   "metadata": {},
   "outputs": [],
   "source": [
    "soup = rm.html_to_soup(rm.driver.page_source)"
   ]
  },
  {
   "cell_type": "code",
   "execution_count": 7,
   "metadata": {},
   "outputs": [],
   "source": [
    "contents = soup.find_all('li', attrs={'class': 'j_thread_list clearfix thread_item_box'})"
   ]
  },
  {
   "cell_type": "code",
   "execution_count": 12,
   "metadata": {},
   "outputs": [
    {
     "data": {
      "text/plain": [
       "'11:58'"
      ]
     },
     "execution_count": 12,
     "metadata": {},
     "output_type": "execute_result"
    }
   ],
   "source": [
    "contents[0].find('span', attrs={'class': 'threadlist_reply_date pull_right j_reply_data'}).text.strip()"
   ]
  },
  {
   "cell_type": "code",
   "execution_count": 14,
   "metadata": {},
   "outputs": [],
   "source": [
    "import re\n",
    "\n",
    "a = contents[0].find('span', attrs={'class': 'drc-button DouWeb-SR-topic-card-reaction text default primary'}).text"
   ]
  },
  {
   "cell_type": "code",
   "execution_count": 17,
   "metadata": {},
   "outputs": [
    {
     "data": {
      "text/plain": [
       "'1064'"
      ]
     },
     "execution_count": 17,
     "metadata": {},
     "output_type": "execute_result"
    }
   ],
   "source": [
    "re.search('(\\d+)回复', a).group(1)"
   ]
  },
  {
   "cell_type": "code",
   "execution_count": 7,
   "metadata": {},
   "outputs": [
    {
     "data": {
      "text/plain": [
       "'豆瓣句号小组传奇男双。。拿了ogg搭档不立刻来抱他他一路从地方台告到中🐑。。8momo 1160赞 · 1064回复'"
      ]
     },
     "execution_count": 7,
     "metadata": {},
     "output_type": "execute_result"
    }
   ],
   "source": [
    "contents[0].text"
   ]
  },
  {
   "cell_type": "code",
   "execution_count": 3,
   "metadata": {},
   "outputs": [],
   "source": [
    "from selenium.webdriver.common.by import By\n",
    "from selenium.webdriver.common.keys import Keys"
   ]
  },
  {
   "cell_type": "code",
   "execution_count": 2,
   "metadata": {},
   "outputs": [],
   "source": [
    "rm.driver.get(\"https://tieba.baidu.com/\")"
   ]
  },
  {
   "cell_type": "code",
   "execution_count": 5,
   "metadata": {},
   "outputs": [],
   "source": [
    "inputs = rm.driver.find_element(By.TAG_NAME, 'input')"
   ]
  },
  {
   "cell_type": "code",
   "execution_count": null,
   "metadata": {},
   "outputs": [],
   "source": [
    "inputs.send_keys('地方')"
   ]
  },
  {
   "cell_type": "code",
   "execution_count": 7,
   "metadata": {},
   "outputs": [],
   "source": [
    "inputs.send_keys(Keys.ENTER)"
   ]
  },
  {
   "cell_type": "code",
   "execution_count": 4,
   "metadata": {},
   "outputs": [],
   "source": [
    "button = rm.driver.find_element(By.CLASS_NAME, 'text-ellipsis')"
   ]
  },
  {
   "cell_type": "code",
   "execution_count": null,
   "metadata": {},
   "outputs": [],
   "source": [
    "button.click()"
   ]
  },
  {
   "cell_type": "code",
   "execution_count": 2,
   "metadata": {},
   "outputs": [],
   "source": [
    "rm.get_url('地方')"
   ]
  },
  {
   "cell_type": "code",
   "execution_count": 4,
   "metadata": {},
   "outputs": [],
   "source": [
    "rm.get_next_page('地方', 3)"
   ]
  },
  {
   "cell_type": "code",
   "execution_count": 2,
   "metadata": {},
   "outputs": [],
   "source": [
    "rm.driver.get('https://s.weibo.com/')"
   ]
  },
  {
   "cell_type": "code",
   "execution_count": 5,
   "metadata": {},
   "outputs": [],
   "source": [
    "cookies = rm.driver.get_cookies()"
   ]
  },
  {
   "cell_type": "code",
   "execution_count": 7,
   "metadata": {},
   "outputs": [],
   "source": [
    "import json\n",
    "with open('./weibo_cookie.json', 'w') as f:\n",
    "    json.dump(cookies, f)"
   ]
  },
  {
   "cell_type": "code",
   "execution_count": 1,
   "metadata": {},
   "outputs": [],
   "source": [
    "import pandas as pd"
   ]
  },
  {
   "cell_type": "code",
   "execution_count": null,
   "metadata": {},
   "outputs": [],
   "source": []
  },
  {
   "cell_type": "code",
   "execution_count": 1,
   "metadata": {},
   "outputs": [],
   "source": [
    "import pandas as pd"
   ]
  },
  {
   "cell_type": "code",
   "execution_count": 3,
   "metadata": {},
   "outputs": [],
   "source": [
    "df = pd.read_excel('./data/zhanshi.xlsx')"
   ]
  },
  {
   "cell_type": "code",
   "execution_count": 15,
   "metadata": {},
   "outputs": [],
   "source": [
    "GUANFANG = ['新华网',\n",
    " '央视新闻客户端',\n",
    " '人民日报',\n",
    " '人民网',\n",
    " '人民日报客户端',\n",
    " '新华社',\n",
    " '央视网',\n",
    " '央视新闻',\n",
    " '北京日报客户端',\n",
    " '北京日报',\n",
    " '工人日报',\n",
    " '环球时报',\n",
    " '环球网',\n",
    " '经济日报',\n",
    " '新疆日报',\n",
    " '天山网',\n",
    " '天山网-新疆日报',\n",
    " '天山网-新疆日报原创',\n",
    " '每日经济新闻',\n",
    " '观察者网',\n",
    " '人民网',\n",
    " '新京报']"
   ]
  },
  {
   "cell_type": "code",
   "execution_count": 31,
   "metadata": {},
   "outputs": [],
   "source": [
    "df['source'] = df['来源网站'].apply(judge_source)"
   ]
  },
  {
   "cell_type": "code",
   "execution_count": 30,
   "metadata": {},
   "outputs": [],
   "source": [
    "def judge_source(content):\n",
    "    content = str(content)\n",
    "    keywords = '央视 新华 北京 人民 日报 中华 光明 环球 新闻网 宣传部 央广 在线 法治 晚报'.split(' ')\n",
    "    if any([k in content for k in keywords]):\n",
    "        return '官媒'\n",
    "    else:\n",
    "        return '网媒'"
   ]
  },
  {
   "cell_type": "code",
   "execution_count": 32,
   "metadata": {},
   "outputs": [
    {
     "data": {
      "text/plain": [
       "网媒    54182\n",
       "官媒     3376\n",
       "Name: source, dtype: int64"
      ]
     },
     "execution_count": 32,
     "metadata": {},
     "output_type": "execute_result"
    }
   ],
   "source": [
    "df['source'].value_counts()"
   ]
  },
  {
   "cell_type": "code",
   "execution_count": null,
   "metadata": {},
   "outputs": [],
   "source": [
    "df['来源网站'].unique().tolist()"
   ]
  },
  {
   "cell_type": "code",
   "execution_count": null,
   "metadata": {},
   "outputs": [],
   "source": []
  }
 ],
 "metadata": {
  "kernelspec": {
   "display_name": "Python 3",
   "language": "python",
   "name": "python3"
  },
  "language_info": {
   "codemirror_mode": {
    "name": "ipython",
    "version": 3
   },
   "file_extension": ".py",
   "mimetype": "text/x-python",
   "name": "python",
   "nbconvert_exporter": "python",
   "pygments_lexer": "ipython3",
   "version": "3.7.3"
  }
 },
 "nbformat": 4,
 "nbformat_minor": 2
}
