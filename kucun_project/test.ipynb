{
 "cells": [
  {
   "cell_type": "code",
   "execution_count": 1,
   "metadata": {},
   "outputs": [],
   "source": [
    "import pandas as pd\n",
    "from src.process import Process"
   ]
  },
  {
   "cell_type": "code",
   "execution_count": 2,
   "metadata": {},
   "outputs": [],
   "source": [
    "remove = pd.read_csv('./data/Fixed Location.csv')"
   ]
  },
  {
   "cell_type": "code",
   "execution_count": 58,
   "metadata": {},
   "outputs": [],
   "source": [
    "volumn = pd.read_csv('./data/Volume.csv', dtype=str)"
   ]
  },
  {
   "cell_type": "code",
   "execution_count": 4,
   "metadata": {},
   "outputs": [],
   "source": [
    "p = Process()\n",
    "p.clean_data()\n",
    "wd = p.cal_proior()"
   ]
  },
  {
   "cell_type": "code",
   "execution_count": 13,
   "metadata": {},
   "outputs": [],
   "source": [
    "p.df[[p.id, p.sid, 'label']].groupby(p.id).first().reset_index().to_csv('result1.csv', index=False)"
   ]
  },
  {
   "cell_type": "code",
   "execution_count": 6,
   "metadata": {},
   "outputs": [],
   "source": []
  },
  {
   "cell_type": "code",
   "execution_count": 16,
   "metadata": {},
   "outputs": [
    {
     "data": {
      "text/plain": [
       "16171711    2634\n",
       "453815      2088\n",
       "927005      1715\n",
       "394270      1575\n",
       "873382       848\n",
       "            ... \n",
       "1264709        1\n",
       "977784         1\n",
       "1026273        1\n",
       "977011         1\n",
       "1797           1\n",
       "Name: Short Item No, Length: 22017, dtype: int64"
      ]
     },
     "execution_count": 16,
     "metadata": {},
     "output_type": "execute_result"
    }
   ],
   "source": [
    "p.df[p.id].value_counts()"
   ]
  },
  {
   "cell_type": "code",
   "execution_count": 71,
   "metadata": {},
   "outputs": [
    {
     "data": {
      "text/plain": [
       "128       6.00\n",
       "340       1.50\n",
       "517       0.45\n",
       "714       0.06\n",
       "748       0.30\n",
       "          ... \n",
       "203199    0.30\n",
       "203409    0.24\n",
       "203417    1.50\n",
       "203458    0.06\n",
       "203530    0.12\n",
       "Name: Used Weight, Length: 2634, dtype: float64"
      ]
     },
     "execution_count": 71,
     "metadata": {},
     "output_type": "execute_result"
    }
   ],
   "source": [
    "p.df[p.df[p.id] == '16171711'][p.weight]"
   ]
  },
  {
   "cell_type": "code",
   "execution_count": 36,
   "metadata": {},
   "outputs": [
    {
     "data": {
      "text/html": [
       "<div>\n",
       "<style scoped>\n",
       "    .dataframe tbody tr th:only-of-type {\n",
       "        vertical-align: middle;\n",
       "    }\n",
       "\n",
       "    .dataframe tbody tr th {\n",
       "        vertical-align: top;\n",
       "    }\n",
       "\n",
       "    .dataframe thead th {\n",
       "        text-align: right;\n",
       "    }\n",
       "</style>\n",
       "<table border=\"1\" class=\"dataframe\">\n",
       "  <thead>\n",
       "    <tr style=\"text-align: right;\">\n",
       "      <th></th>\n",
       "      <th>Pick Seq</th>\n",
       "      <th>Repl Seq</th>\n",
       "      <th>Move Code</th>\n",
       "      <th>Address Number</th>\n",
       "      <th>Ship To Number</th>\n",
       "      <th>Ln Ty</th>\n",
       "      <th>Priority (1/0)</th>\n",
       "      <th>Carrier Number</th>\n",
       "      <th>Route Code</th>\n",
       "      <th>Stop Code</th>\n",
       "    </tr>\n",
       "  </thead>\n",
       "  <tbody>\n",
       "    <tr>\n",
       "      <th>128</th>\n",
       "      <td>1061</td>\n",
       "      <td>NaN</td>\n",
       "      <td>NaN</td>\n",
       "      <td>65</td>\n",
       "      <td>65</td>\n",
       "      <td>S</td>\n",
       "      <td>5</td>\n",
       "      <td>1020012</td>\n",
       "      <td>T2</td>\n",
       "      <td>SE</td>\n",
       "    </tr>\n",
       "    <tr>\n",
       "      <th>340</th>\n",
       "      <td>1061</td>\n",
       "      <td>NaN</td>\n",
       "      <td>NaN</td>\n",
       "      <td>10</td>\n",
       "      <td>10</td>\n",
       "      <td>S</td>\n",
       "      <td>5</td>\n",
       "      <td>1020012</td>\n",
       "      <td>CUK</td>\n",
       "      <td>UK</td>\n",
       "    </tr>\n",
       "  </tbody>\n",
       "</table>\n",
       "</div>"
      ],
      "text/plain": [
       "    Pick Seq Repl Seq Move Code Address Number Ship To Number Ln Ty  \\\n",
       "128     1061      NaN       NaN             65             65     S   \n",
       "340     1061      NaN       NaN             10             10     S   \n",
       "\n",
       "    Priority (1/0) Carrier Number Route Code Stop Code  \n",
       "128              5        1020012         T2        SE  \n",
       "340              5        1020012        CUK        UK  "
      ]
     },
     "execution_count": 36,
     "metadata": {},
     "output_type": "execute_result"
    }
   ],
   "source": [
    "p.df.iloc[[128, 340], 110:120]"
   ]
  },
  {
   "cell_type": "code",
   "execution_count": 53,
   "metadata": {},
   "outputs": [
    {
     "ename": "KeyError",
     "evalue": "\"['Used Weight', 'Used Cubic Dim'] not in index\"",
     "output_type": "error",
     "traceback": [
      "\u001b[1;31m---------------------------------------------------------------------------\u001b[0m",
      "\u001b[1;31mKeyError\u001b[0m                                  Traceback (most recent call last)",
      "\u001b[1;32m<ipython-input-53-1a2a6c0d1ba5>\u001b[0m in \u001b[0;36m<module>\u001b[1;34m\u001b[0m\n\u001b[1;32m----> 1\u001b[1;33m \u001b[0mvolumn\u001b[0m\u001b[1;33m[\u001b[0m\u001b[1;33m[\u001b[0m\u001b[0mp\u001b[0m\u001b[1;33m.\u001b[0m\u001b[0mid\u001b[0m\u001b[1;33m,\u001b[0m \u001b[0mp\u001b[0m\u001b[1;33m.\u001b[0m\u001b[0mweight\u001b[0m\u001b[1;33m,\u001b[0m \u001b[0mp\u001b[0m\u001b[1;33m.\u001b[0m\u001b[0mcub\u001b[0m\u001b[1;33m]\u001b[0m\u001b[1;33m]\u001b[0m\u001b[1;33m\u001b[0m\u001b[1;33m\u001b[0m\u001b[0m\n\u001b[0m",
      "\u001b[1;32me:\\anaconda3\\lib\\site-packages\\pandas\\core\\frame.py\u001b[0m in \u001b[0;36m__getitem__\u001b[1;34m(self, key)\u001b[0m\n\u001b[0;32m   3462\u001b[0m             \u001b[1;32mif\u001b[0m \u001b[0mis_iterator\u001b[0m\u001b[1;33m(\u001b[0m\u001b[0mkey\u001b[0m\u001b[1;33m)\u001b[0m\u001b[1;33m:\u001b[0m\u001b[1;33m\u001b[0m\u001b[1;33m\u001b[0m\u001b[0m\n\u001b[0;32m   3463\u001b[0m                 \u001b[0mkey\u001b[0m \u001b[1;33m=\u001b[0m \u001b[0mlist\u001b[0m\u001b[1;33m(\u001b[0m\u001b[0mkey\u001b[0m\u001b[1;33m)\u001b[0m\u001b[1;33m\u001b[0m\u001b[1;33m\u001b[0m\u001b[0m\n\u001b[1;32m-> 3464\u001b[1;33m             \u001b[0mindexer\u001b[0m \u001b[1;33m=\u001b[0m \u001b[0mself\u001b[0m\u001b[1;33m.\u001b[0m\u001b[0mloc\u001b[0m\u001b[1;33m.\u001b[0m\u001b[0m_get_listlike_indexer\u001b[0m\u001b[1;33m(\u001b[0m\u001b[0mkey\u001b[0m\u001b[1;33m,\u001b[0m \u001b[0maxis\u001b[0m\u001b[1;33m=\u001b[0m\u001b[1;36m1\u001b[0m\u001b[1;33m)\u001b[0m\u001b[1;33m[\u001b[0m\u001b[1;36m1\u001b[0m\u001b[1;33m]\u001b[0m\u001b[1;33m\u001b[0m\u001b[1;33m\u001b[0m\u001b[0m\n\u001b[0m\u001b[0;32m   3465\u001b[0m \u001b[1;33m\u001b[0m\u001b[0m\n\u001b[0;32m   3466\u001b[0m         \u001b[1;31m# take() does not accept boolean indexers\u001b[0m\u001b[1;33m\u001b[0m\u001b[1;33m\u001b[0m\u001b[1;33m\u001b[0m\u001b[0m\n",
      "\u001b[1;32me:\\anaconda3\\lib\\site-packages\\pandas\\core\\indexing.py\u001b[0m in \u001b[0;36m_get_listlike_indexer\u001b[1;34m(self, key, axis)\u001b[0m\n\u001b[0;32m   1312\u001b[0m             \u001b[0mkeyarr\u001b[0m\u001b[1;33m,\u001b[0m \u001b[0mindexer\u001b[0m\u001b[1;33m,\u001b[0m \u001b[0mnew_indexer\u001b[0m \u001b[1;33m=\u001b[0m \u001b[0max\u001b[0m\u001b[1;33m.\u001b[0m\u001b[0m_reindex_non_unique\u001b[0m\u001b[1;33m(\u001b[0m\u001b[0mkeyarr\u001b[0m\u001b[1;33m)\u001b[0m\u001b[1;33m\u001b[0m\u001b[1;33m\u001b[0m\u001b[0m\n\u001b[0;32m   1313\u001b[0m \u001b[1;33m\u001b[0m\u001b[0m\n\u001b[1;32m-> 1314\u001b[1;33m         \u001b[0mself\u001b[0m\u001b[1;33m.\u001b[0m\u001b[0m_validate_read_indexer\u001b[0m\u001b[1;33m(\u001b[0m\u001b[0mkeyarr\u001b[0m\u001b[1;33m,\u001b[0m \u001b[0mindexer\u001b[0m\u001b[1;33m,\u001b[0m \u001b[0maxis\u001b[0m\u001b[1;33m)\u001b[0m\u001b[1;33m\u001b[0m\u001b[1;33m\u001b[0m\u001b[0m\n\u001b[0m\u001b[0;32m   1315\u001b[0m \u001b[1;33m\u001b[0m\u001b[0m\n\u001b[0;32m   1316\u001b[0m         if needs_i8_conversion(ax.dtype) or isinstance(\n",
      "\u001b[1;32me:\\anaconda3\\lib\\site-packages\\pandas\\core\\indexing.py\u001b[0m in \u001b[0;36m_validate_read_indexer\u001b[1;34m(self, key, indexer, axis)\u001b[0m\n\u001b[0;32m   1375\u001b[0m \u001b[1;33m\u001b[0m\u001b[0m\n\u001b[0;32m   1376\u001b[0m             \u001b[0mnot_found\u001b[0m \u001b[1;33m=\u001b[0m \u001b[0mlist\u001b[0m\u001b[1;33m(\u001b[0m\u001b[0mensure_index\u001b[0m\u001b[1;33m(\u001b[0m\u001b[0mkey\u001b[0m\u001b[1;33m)\u001b[0m\u001b[1;33m[\u001b[0m\u001b[0mmissing_mask\u001b[0m\u001b[1;33m.\u001b[0m\u001b[0mnonzero\u001b[0m\u001b[1;33m(\u001b[0m\u001b[1;33m)\u001b[0m\u001b[1;33m[\u001b[0m\u001b[1;36m0\u001b[0m\u001b[1;33m]\u001b[0m\u001b[1;33m]\u001b[0m\u001b[1;33m.\u001b[0m\u001b[0munique\u001b[0m\u001b[1;33m(\u001b[0m\u001b[1;33m)\u001b[0m\u001b[1;33m)\u001b[0m\u001b[1;33m\u001b[0m\u001b[1;33m\u001b[0m\u001b[0m\n\u001b[1;32m-> 1377\u001b[1;33m             \u001b[1;32mraise\u001b[0m \u001b[0mKeyError\u001b[0m\u001b[1;33m(\u001b[0m\u001b[1;34mf\"{not_found} not in index\"\u001b[0m\u001b[1;33m)\u001b[0m\u001b[1;33m\u001b[0m\u001b[1;33m\u001b[0m\u001b[0m\n\u001b[0m\u001b[0;32m   1378\u001b[0m \u001b[1;33m\u001b[0m\u001b[0m\n\u001b[0;32m   1379\u001b[0m \u001b[1;33m\u001b[0m\u001b[0m\n",
      "\u001b[1;31mKeyError\u001b[0m: \"['Used Weight', 'Used Cubic Dim'] not in index\""
     ]
    }
   ],
   "source": [
    "volumn[[p.id, p.weight, p.cub]]"
   ]
  },
  {
   "cell_type": "code",
   "execution_count": 48,
   "metadata": {},
   "outputs": [
    {
     "data": {
      "text/html": [
       "<div>\n",
       "<style scoped>\n",
       "    .dataframe tbody tr th:only-of-type {\n",
       "        vertical-align: middle;\n",
       "    }\n",
       "\n",
       "    .dataframe tbody tr th {\n",
       "        vertical-align: top;\n",
       "    }\n",
       "\n",
       "    .dataframe thead th {\n",
       "        text-align: right;\n",
       "    }\n",
       "</style>\n",
       "<table border=\"1\" class=\"dataframe\">\n",
       "  <thead>\n",
       "    <tr style=\"text-align: right;\">\n",
       "      <th></th>\n",
       "      <th>Short Item No</th>\n",
       "      <th>Gross Cubic Dim</th>\n",
       "      <th>Gross Weight</th>\n",
       "    </tr>\n",
       "  </thead>\n",
       "  <tbody>\n",
       "    <tr>\n",
       "      <th>134883</th>\n",
       "      <td>16171711.0</td>\n",
       "      <td>36.00</td>\n",
       "      <td>0.03</td>\n",
       "    </tr>\n",
       "  </tbody>\n",
       "</table>\n",
       "</div>"
      ],
      "text/plain": [
       "        Short Item No Gross Cubic Dim Gross Weight\n",
       "134883     16171711.0           36.00         0.03"
      ]
     },
     "execution_count": 48,
     "metadata": {},
     "output_type": "execute_result"
    }
   ],
   "source": [
    "volumn[volumn[p.id] == 16171711][[p.id, 'Gross Cubic Dim', 'Gross Weight']]"
   ]
  },
  {
   "cell_type": "code",
   "execution_count": 56,
   "metadata": {},
   "outputs": [
    {
     "data": {
      "text/html": [
       "<div>\n",
       "<style scoped>\n",
       "    .dataframe tbody tr th:only-of-type {\n",
       "        vertical-align: middle;\n",
       "    }\n",
       "\n",
       "    .dataframe tbody tr th {\n",
       "        vertical-align: top;\n",
       "    }\n",
       "\n",
       "    .dataframe thead th {\n",
       "        text-align: right;\n",
       "    }\n",
       "</style>\n",
       "<table border=\"1\" class=\"dataframe\">\n",
       "  <thead>\n",
       "    <tr style=\"text-align: right;\">\n",
       "      <th></th>\n",
       "      <th>Short Item No</th>\n",
       "      <th>Batch Number</th>\n",
       "      <th>Suggestion Sequence</th>\n",
       "      <th>T Y</th>\n",
       "      <th>Or Cd</th>\n",
       "      <th>Batch Number.1</th>\n",
       "      <th>Request Sequence</th>\n",
       "      <th>Wave Number</th>\n",
       "      <th>Task Number</th>\n",
       "      <th>Trip Number</th>\n",
       "      <th>...</th>\n",
       "      <th>Trip Depot</th>\n",
       "      <th>Line No..1</th>\n",
       "      <th>Parent License Plate Number</th>\n",
       "      <th>From License Plate Number</th>\n",
       "      <th>To License Plate Number</th>\n",
       "      <th>Job Number</th>\n",
       "      <th>Job Sequence</th>\n",
       "      <th>Delivery Batch Number</th>\n",
       "      <th>weight_score</th>\n",
       "      <th>label</th>\n",
       "    </tr>\n",
       "  </thead>\n",
       "  <tbody>\n",
       "    <tr>\n",
       "      <th>0</th>\n",
       "      <td>100</td>\n",
       "      <td>26152790</td>\n",
       "      <td>1.000</td>\n",
       "      <td>2</td>\n",
       "      <td>SO</td>\n",
       "      <td>3179427</td>\n",
       "      <td>1.000</td>\n",
       "      <td>1247418</td>\n",
       "      <td>1250701</td>\n",
       "      <td>8.000</td>\n",
       "      <td>...</td>\n",
       "      <td>None</td>\n",
       "      <td>None</td>\n",
       "      <td>None</td>\n",
       "      <td>None</td>\n",
       "      <td>None</td>\n",
       "      <td>None</td>\n",
       "      <td>None</td>\n",
       "      <td>None</td>\n",
       "      <td>2.613674e-05</td>\n",
       "      <td>High</td>\n",
       "    </tr>\n",
       "    <tr>\n",
       "      <th>1</th>\n",
       "      <td>1000235</td>\n",
       "      <td>26449754</td>\n",
       "      <td>1.000</td>\n",
       "      <td>2</td>\n",
       "      <td>SO</td>\n",
       "      <td>3277044</td>\n",
       "      <td>4.000</td>\n",
       "      <td>1286507</td>\n",
       "      <td>1289857</td>\n",
       "      <td>4.000</td>\n",
       "      <td>...</td>\n",
       "      <td>None</td>\n",
       "      <td>None</td>\n",
       "      <td>None</td>\n",
       "      <td>None</td>\n",
       "      <td>None</td>\n",
       "      <td>None</td>\n",
       "      <td>None</td>\n",
       "      <td>None</td>\n",
       "      <td>1.956383e-09</td>\n",
       "      <td>low</td>\n",
       "    </tr>\n",
       "    <tr>\n",
       "      <th>2</th>\n",
       "      <td>1000253</td>\n",
       "      <td>26449755</td>\n",
       "      <td>1.000</td>\n",
       "      <td>2</td>\n",
       "      <td>SO</td>\n",
       "      <td>3277044</td>\n",
       "      <td>5.000</td>\n",
       "      <td>1286507</td>\n",
       "      <td>1289857</td>\n",
       "      <td>5.000</td>\n",
       "      <td>...</td>\n",
       "      <td>None</td>\n",
       "      <td>None</td>\n",
       "      <td>None</td>\n",
       "      <td>None</td>\n",
       "      <td>None</td>\n",
       "      <td>None</td>\n",
       "      <td>None</td>\n",
       "      <td>None</td>\n",
       "      <td>1.956383e-09</td>\n",
       "      <td>low</td>\n",
       "    </tr>\n",
       "    <tr>\n",
       "      <th>3</th>\n",
       "      <td>1000262</td>\n",
       "      <td>26449751</td>\n",
       "      <td>1.000</td>\n",
       "      <td>2</td>\n",
       "      <td>SO</td>\n",
       "      <td>3277044</td>\n",
       "      <td>1.000</td>\n",
       "      <td>1286507</td>\n",
       "      <td>1289857</td>\n",
       "      <td>1.000</td>\n",
       "      <td>...</td>\n",
       "      <td>None</td>\n",
       "      <td>None</td>\n",
       "      <td>None</td>\n",
       "      <td>None</td>\n",
       "      <td>None</td>\n",
       "      <td>None</td>\n",
       "      <td>None</td>\n",
       "      <td>None</td>\n",
       "      <td>1.956383e-09</td>\n",
       "      <td>low</td>\n",
       "    </tr>\n",
       "    <tr>\n",
       "      <th>4</th>\n",
       "      <td>1000264</td>\n",
       "      <td>26449753</td>\n",
       "      <td>1.000</td>\n",
       "      <td>2</td>\n",
       "      <td>SO</td>\n",
       "      <td>3277044</td>\n",
       "      <td>3.000</td>\n",
       "      <td>1286507</td>\n",
       "      <td>1289857</td>\n",
       "      <td>3.000</td>\n",
       "      <td>...</td>\n",
       "      <td>None</td>\n",
       "      <td>None</td>\n",
       "      <td>None</td>\n",
       "      <td>None</td>\n",
       "      <td>None</td>\n",
       "      <td>None</td>\n",
       "      <td>None</td>\n",
       "      <td>None</td>\n",
       "      <td>1.956383e-09</td>\n",
       "      <td>low</td>\n",
       "    </tr>\n",
       "    <tr>\n",
       "      <th>...</th>\n",
       "      <td>...</td>\n",
       "      <td>...</td>\n",
       "      <td>...</td>\n",
       "      <td>...</td>\n",
       "      <td>...</td>\n",
       "      <td>...</td>\n",
       "      <td>...</td>\n",
       "      <td>...</td>\n",
       "      <td>...</td>\n",
       "      <td>...</td>\n",
       "      <td>...</td>\n",
       "      <td>...</td>\n",
       "      <td>...</td>\n",
       "      <td>...</td>\n",
       "      <td>...</td>\n",
       "      <td>...</td>\n",
       "      <td>...</td>\n",
       "      <td>...</td>\n",
       "      <td>...</td>\n",
       "      <td>...</td>\n",
       "      <td>...</td>\n",
       "    </tr>\n",
       "    <tr>\n",
       "      <th>22012</th>\n",
       "      <td>999905</td>\n",
       "      <td>26900791</td>\n",
       "      <td>1.000</td>\n",
       "      <td>2</td>\n",
       "      <td>SO</td>\n",
       "      <td>3436945</td>\n",
       "      <td>4.000</td>\n",
       "      <td>1345063</td>\n",
       "      <td>1348507</td>\n",
       "      <td>14.000</td>\n",
       "      <td>...</td>\n",
       "      <td>None</td>\n",
       "      <td>None</td>\n",
       "      <td>None</td>\n",
       "      <td>None</td>\n",
       "      <td>None</td>\n",
       "      <td>None</td>\n",
       "      <td>None</td>\n",
       "      <td>None</td>\n",
       "      <td>1.581181e-04</td>\n",
       "      <td>low</td>\n",
       "    </tr>\n",
       "    <tr>\n",
       "      <th>22013</th>\n",
       "      <td>999912</td>\n",
       "      <td>26689254</td>\n",
       "      <td>1.000</td>\n",
       "      <td>2</td>\n",
       "      <td>SO</td>\n",
       "      <td>3356519</td>\n",
       "      <td>1.000</td>\n",
       "      <td>1318489</td>\n",
       "      <td>1321885</td>\n",
       "      <td>5.000</td>\n",
       "      <td>...</td>\n",
       "      <td>None</td>\n",
       "      <td>None</td>\n",
       "      <td>None</td>\n",
       "      <td>None</td>\n",
       "      <td>None</td>\n",
       "      <td>None</td>\n",
       "      <td>None</td>\n",
       "      <td>None</td>\n",
       "      <td>2.881099e-04</td>\n",
       "      <td>low</td>\n",
       "    </tr>\n",
       "    <tr>\n",
       "      <th>22014</th>\n",
       "      <td>999957</td>\n",
       "      <td>26980521</td>\n",
       "      <td>1.000</td>\n",
       "      <td>2</td>\n",
       "      <td>SO</td>\n",
       "      <td>3465453</td>\n",
       "      <td>8.000</td>\n",
       "      <td>1355724</td>\n",
       "      <td>1359187</td>\n",
       "      <td>8.000</td>\n",
       "      <td>...</td>\n",
       "      <td>None</td>\n",
       "      <td>None</td>\n",
       "      <td>None</td>\n",
       "      <td>None</td>\n",
       "      <td>None</td>\n",
       "      <td>None</td>\n",
       "      <td>None</td>\n",
       "      <td>None</td>\n",
       "      <td>1.427018e-03</td>\n",
       "      <td>Medium</td>\n",
       "    </tr>\n",
       "    <tr>\n",
       "      <th>22015</th>\n",
       "      <td>999960</td>\n",
       "      <td>26980522</td>\n",
       "      <td>1.000</td>\n",
       "      <td>2</td>\n",
       "      <td>SO</td>\n",
       "      <td>3465453</td>\n",
       "      <td>9.000</td>\n",
       "      <td>1355724</td>\n",
       "      <td>1359187</td>\n",
       "      <td>9.000</td>\n",
       "      <td>...</td>\n",
       "      <td>None</td>\n",
       "      <td>None</td>\n",
       "      <td>None</td>\n",
       "      <td>None</td>\n",
       "      <td>None</td>\n",
       "      <td>None</td>\n",
       "      <td>None</td>\n",
       "      <td>None</td>\n",
       "      <td>1.427018e-03</td>\n",
       "      <td>Medium</td>\n",
       "    </tr>\n",
       "    <tr>\n",
       "      <th>22016</th>\n",
       "      <td>999983</td>\n",
       "      <td>26355882</td>\n",
       "      <td>1.000</td>\n",
       "      <td>2</td>\n",
       "      <td>SO</td>\n",
       "      <td>3244021</td>\n",
       "      <td>8.000</td>\n",
       "      <td>1275238</td>\n",
       "      <td>1278570</td>\n",
       "      <td>6.000</td>\n",
       "      <td>...</td>\n",
       "      <td>None</td>\n",
       "      <td>None</td>\n",
       "      <td>None</td>\n",
       "      <td>None</td>\n",
       "      <td>None</td>\n",
       "      <td>None</td>\n",
       "      <td>None</td>\n",
       "      <td>None</td>\n",
       "      <td>2.395717e-10</td>\n",
       "      <td>low</td>\n",
       "    </tr>\n",
       "  </tbody>\n",
       "</table>\n",
       "<p>22017 rows × 159 columns</p>\n",
       "</div>"
      ],
      "text/plain": [
       "      Short Item No Batch Number Suggestion Sequence T Y Or Cd Batch Number.1  \\\n",
       "0               100     26152790               1.000   2    SO        3179427   \n",
       "1           1000235     26449754               1.000   2    SO        3277044   \n",
       "2           1000253     26449755               1.000   2    SO        3277044   \n",
       "3           1000262     26449751               1.000   2    SO        3277044   \n",
       "4           1000264     26449753               1.000   2    SO        3277044   \n",
       "...             ...          ...                 ...  ..   ...            ...   \n",
       "22012        999905     26900791               1.000   2    SO        3436945   \n",
       "22013        999912     26689254               1.000   2    SO        3356519   \n",
       "22014        999957     26980521               1.000   2    SO        3465453   \n",
       "22015        999960     26980522               1.000   2    SO        3465453   \n",
       "22016        999983     26355882               1.000   2    SO        3244021   \n",
       "\n",
       "      Request Sequence Wave Number Task Number Trip Number  ... Trip Depot  \\\n",
       "0                1.000     1247418     1250701       8.000  ...       None   \n",
       "1                4.000     1286507     1289857       4.000  ...       None   \n",
       "2                5.000     1286507     1289857       5.000  ...       None   \n",
       "3                1.000     1286507     1289857       1.000  ...       None   \n",
       "4                3.000     1286507     1289857       3.000  ...       None   \n",
       "...                ...         ...         ...         ...  ...        ...   \n",
       "22012            4.000     1345063     1348507      14.000  ...       None   \n",
       "22013            1.000     1318489     1321885       5.000  ...       None   \n",
       "22014            8.000     1355724     1359187       8.000  ...       None   \n",
       "22015            9.000     1355724     1359187       9.000  ...       None   \n",
       "22016            8.000     1275238     1278570       6.000  ...       None   \n",
       "\n",
       "      Line No..1 Parent License Plate Number From License Plate Number  \\\n",
       "0           None                        None                      None   \n",
       "1           None                        None                      None   \n",
       "2           None                        None                      None   \n",
       "3           None                        None                      None   \n",
       "4           None                        None                      None   \n",
       "...          ...                         ...                       ...   \n",
       "22012       None                        None                      None   \n",
       "22013       None                        None                      None   \n",
       "22014       None                        None                      None   \n",
       "22015       None                        None                      None   \n",
       "22016       None                        None                      None   \n",
       "\n",
       "      To License Plate Number Job Number  Job Sequence Delivery Batch Number  \\\n",
       "0                        None        None         None                  None   \n",
       "1                        None        None         None                  None   \n",
       "2                        None        None         None                  None   \n",
       "3                        None        None         None                  None   \n",
       "4                        None        None         None                  None   \n",
       "...                       ...         ...          ...                   ...   \n",
       "22012                    None        None         None                  None   \n",
       "22013                    None        None         None                  None   \n",
       "22014                    None        None         None                  None   \n",
       "22015                    None        None         None                  None   \n",
       "22016                    None        None         None                  None   \n",
       "\n",
       "       weight_score   label  \n",
       "0      2.613674e-05    High  \n",
       "1      1.956383e-09     low  \n",
       "2      1.956383e-09     low  \n",
       "3      1.956383e-09     low  \n",
       "4      1.956383e-09     low  \n",
       "...             ...     ...  \n",
       "22012  1.581181e-04     low  \n",
       "22013  2.881099e-04     low  \n",
       "22014  1.427018e-03  Medium  \n",
       "22015  1.427018e-03  Medium  \n",
       "22016  2.395717e-10     low  \n",
       "\n",
       "[22017 rows x 159 columns]"
      ]
     },
     "execution_count": 56,
     "metadata": {},
     "output_type": "execute_result"
    }
   ],
   "source": [
    "p.df.groupby(p.id).first().reset_index()"
   ]
  },
  {
   "cell_type": "code",
   "execution_count": 59,
   "metadata": {},
   "outputs": [],
   "source": [
    "tmp = pd.merge(p.df.groupby(p.id).first().reset_index(), volumn[[p.id, 'Gross Cubic Dim', 'Gross Weight']], on=p.id, how='left')"
   ]
  },
  {
   "cell_type": "code",
   "execution_count": 1,
   "metadata": {},
   "outputs": [],
   "source": [
    "from src.docker import docker_main"
   ]
  },
  {
   "cell_type": "code",
   "execution_count": 3,
   "metadata": {},
   "outputs": [],
   "source": [
    "from src.docker import GoodSequence\n",
    "from src.process import Process\n",
    "import pandas as pd"
   ]
  },
  {
   "cell_type": "code",
   "execution_count": null,
   "metadata": {},
   "outputs": [],
   "source": [
    "result = docker_main()"
   ]
  },
  {
   "cell_type": "code",
   "execution_count": 7,
   "metadata": {},
   "outputs": [],
   "source": [
    "p = Process()\n",
    "p.clean_data()\n",
    "weights = pd.read_csv(p.data_root / 'result1.csv', dtype=str)\n",
    "volumns = pd.read_csv(p.data_root / 'Volume.csv', dtype=str)\n",
    "weights = weights[weights['label'] != 'low'][p.id]\n",
    "p.df = p.df[p.df[p.id].isin(weights)].reset_index(drop=True)\n",
    "tmp = pd.merge(p.df.groupby(p.id).first().reset_index(), volumns[[p.id, 'Gross Cubic Dim', 'Gross Weight']], on=p.id, how='left') \n",
    "tmp = tmp.drop_duplicates(subset=[p.id]).dropna(subset=['Gross Cubic Dim', 'Gross Weight'])\n",
    "tmp = tmp[[p.id, 'Gross Cubic Dim', 'Gross Weight']]\n",
    "tmp['Gross Cubic Dim'] = tmp['Gross Cubic Dim'].str.replace(',', '').astype(float)\n",
    "tmp['Gross Weight'] = tmp['Gross Weight'].str.replace(',', '').astype(float)\n",
    "\n",
    "large = tmp[(tmp['Gross Weight'] > 10) | (tmp['Gross Cubic Dim'] > 6000)]\n",
    "small = tmp[~tmp[p.id].isin(large[p.id])]\n",
    "large.columns = ['name', 'height', 'weight']\n",
    "small.columns = ['name', 'height', 'weight']"
   ]
  },
  {
   "cell_type": "code",
   "execution_count": 13,
   "metadata": {},
   "outputs": [],
   "source": [
    "gs = GoodSequence(large)\n",
    "gs.cal_mean_weight()\n",
    "gs.forward(300)\n",
    "result = gs.generate_dict()"
   ]
  },
  {
   "cell_type": "code",
   "execution_count": null,
   "metadata": {},
   "outputs": [],
   "source": [
    "for idx in range(gs.docker_num):\n",
    "    print(len(gs.dockers[idx].container))\n",
    "    print(gs.dockers[idx].cap, gs.dockers[idx].total, gs.dockers[idx].total / gs.dockers[idx].row)"
   ]
  },
  {
   "cell_type": "code",
   "execution_count": 11,
   "metadata": {},
   "outputs": [],
   "source": [
    "gs = GoodSequence(small)\n",
    "gs.cal_mean_weight()\n",
    "gs.forward(1)\n",
    "result = gs.generate_dict()"
   ]
  },
  {
   "cell_type": "code",
   "execution_count": 6,
   "metadata": {},
   "outputs": [],
   "source": [
    "result.to_csv('./result2.csv', index=False)"
   ]
  },
  {
   "cell_type": "code",
   "execution_count": null,
   "metadata": {},
   "outputs": [],
   "source": []
  },
  {
   "cell_type": "code",
   "execution_count": 1,
   "metadata": {},
   "outputs": [],
   "source": [
    "import pandas as pd\n",
    "from src.process import Process\n",
    "from src.optimize import Optimize"
   ]
  },
  {
   "cell_type": "code",
   "execution_count": 2,
   "metadata": {},
   "outputs": [],
   "source": [
    "p = Process()\n",
    "op = Optimize(p)"
   ]
  },
  {
   "cell_type": "code",
   "execution_count": 3,
   "metadata": {},
   "outputs": [],
   "source": [
    "data = p.df.groupby(p.key)[p.id].agg(list)\n",
    "it = op.get_association(data)"
   ]
  },
  {
   "cell_type": "code",
   "execution_count": 4,
   "metadata": {},
   "outputs": [],
   "source": [
    "location = op.forward()"
   ]
  },
  {
   "cell_type": "code",
   "execution_count": 5,
   "metadata": {},
   "outputs": [],
   "source": [
    "import pandas as pd"
   ]
  },
  {
   "cell_type": "code",
   "execution_count": 6,
   "metadata": {},
   "outputs": [],
   "source": [
    "df = pd.DataFrame(location.items())"
   ]
  },
  {
   "cell_type": "code",
   "execution_count": 28,
   "metadata": {},
   "outputs": [
    {
     "data": {
      "text/plain": [
       "(13, 34)"
      ]
     },
     "execution_count": 28,
     "metadata": {},
     "output_type": "execute_result"
    }
   ],
   "source": [
    "location[it[0][0]]"
   ]
  },
  {
   "cell_type": "code",
   "execution_count": 3,
   "metadata": {},
   "outputs": [],
   "source": [
    "location = op.forward_with_association()"
   ]
  },
  {
   "cell_type": "code",
   "execution_count": 1,
   "metadata": {},
   "outputs": [],
   "source": [
    "import pandas as pd\n",
    "\n",
    "df1 = pd.read_csv('src/result1.csv')\n",
    "df2 = pd.read_csv('src/result2.csv')\n",
    "df3 = pd.read_csv('src/result3.csv')"
   ]
  },
  {
   "cell_type": "code",
   "execution_count": 10,
   "metadata": {},
   "outputs": [],
   "source": [
    "pd.merge(pd.merge(df1, df2, on='Short Item No', how='left'), df3, on='Short Item No', how='left').sort_values('label').to_csv('result.csv', index=False)"
   ]
  },
  {
   "cell_type": "code",
   "execution_count": null,
   "metadata": {},
   "outputs": [],
   "source": []
  }
 ],
 "metadata": {
  "kernelspec": {
   "display_name": "base",
   "language": "python",
   "name": "python3"
  },
  "language_info": {
   "codemirror_mode": {
    "name": "ipython",
    "version": 3
   },
   "file_extension": ".py",
   "mimetype": "text/x-python",
   "name": "python",
   "nbconvert_exporter": "python",
   "pygments_lexer": "ipython3",
   "version": "3.7.3"
  }
 },
 "nbformat": 4,
 "nbformat_minor": 2
}
