{
 "cells": [
  {
   "cell_type": "code",
   "execution_count": 1,
   "metadata": {},
   "outputs": [],
   "source": [
    "from src.process import Process"
   ]
  },
  {
   "cell_type": "code",
   "execution_count": 2,
   "metadata": {},
   "outputs": [],
   "source": [
    "p = Process('data/raw_data/', 'data.csv')"
   ]
  },
  {
   "cell_type": "code",
   "execution_count": 3,
   "metadata": {},
   "outputs": [],
   "source": [
    "df = p.df"
   ]
  },
  {
   "cell_type": "code",
   "execution_count": 4,
   "metadata": {},
   "outputs": [
    {
     "data": {
      "text/plain": [
       "Index(['会员姓名', '电话', '会员生日', '积分', '性别', '职业', '烟龄', '学历', '收入', '年龄', '消费者来源',\n",
       "       '入网门店', '注册时间', '联系地址', '店铺ID', '邮编', '品牌偏好1', '品牌偏好2', '品牌偏好3',\n",
       "       '品牌忠诚度', '月均购买次数', '月均购买量', '月均购买金额', '消费时间', '商品条码', '商品名称', '单位',\n",
       "       '商品数量', '实收金额', '店铺名称', '店铺编码', 'id'],\n",
       "      dtype='object')"
      ]
     },
     "execution_count": 4,
     "metadata": {},
     "output_type": "execute_result"
    }
   ],
   "source": [
    "df.columns"
   ]
  },
  {
   "cell_type": "code",
   "execution_count": 5,
   "metadata": {},
   "outputs": [],
   "source": [
    "select_cols = ['会员姓名', '电话', '会员生日', '性别', '年龄', '消费时间', '商品名称', '单位', '商品数量', '实收金额', 'id']"
   ]
  },
  {
   "cell_type": "code",
   "execution_count": 6,
   "metadata": {
    "scrolled": true
   },
   "outputs": [],
   "source": [
    "from src.process import Scaler\n",
    "\n",
    "sc = Scaler(df, select_cols)"
   ]
  },
  {
   "cell_type": "code",
   "execution_count": 10,
   "metadata": {},
   "outputs": [],
   "source": [
    "import statsmodels.api as sm\n",
    "from statsmodels.stats.outliers_influence import variance_inflation_factor"
   ]
  },
  {
   "cell_type": "code",
   "execution_count": 14,
   "metadata": {},
   "outputs": [],
   "source": [
    "X = sc.train_data.drop(columns=['id', 'label'])\n",
    "Y = sc.train_data['label']"
   ]
  },
  {
   "cell_type": "code",
   "execution_count": 16,
   "metadata": {},
   "outputs": [
    {
     "name": "stdout",
     "output_type": "stream",
     "text": [
      "Optimization terminated successfully.\n",
      "         Current function value: 0.417009\n",
      "         Iterations 8\n",
      "                           Logit Regression Results                           \n",
      "==============================================================================\n",
      "Dep. Variable:                  label   No. Observations:                29084\n",
      "Model:                          Logit   Df Residuals:                    29073\n",
      "Method:                           MLE   Df Model:                           10\n",
      "Date:                Tue, 05 Sep 2023   Pseudo R-squ.:                  0.1317\n",
      "Time:                        10:32:04   Log-Likelihood:                -12128.\n",
      "converged:                       True   LL-Null:                       -13967.\n",
      "Covariance Type:            nonrobust   LLR p-value:                     0.000\n",
      "==============================================================================\n",
      "                 coef    std err          z      P>|z|      [0.025      0.975]\n",
      "------------------------------------------------------------------------------\n",
      "const         -0.6829      0.118     -5.791      0.000      -0.914      -0.452\n",
      "amount         0.5322      0.551      0.966      0.334      -0.548       1.612\n",
      "amount_top    -0.5306      0.178     -2.977      0.003      -0.880      -0.181\n",
      "frequency      4.5051      0.312     14.454      0.000       3.894       5.116\n",
      "number        -0.0868      0.304     -0.286      0.775      -0.682       0.508\n",
      "interval      -1.4500      0.090    -16.061      0.000      -1.627      -1.273\n",
      "last_time      2.7427      0.094     29.107      0.000       2.558       2.927\n",
      "level         -0.5368      0.094     -5.714      0.000      -0.721      -0.353\n",
      "price          0.1593      0.104      1.530      0.126      -0.045       0.363\n",
      "gender        -0.1683      0.077     -2.182      0.029      -0.319      -0.017\n",
      "age            0.5131      0.083      6.149      0.000       0.350       0.677\n",
      "==============================================================================\n"
     ]
    }
   ],
   "source": [
    "X = sm.add_constant(X)\n",
    "model = sm.Logit(Y, X)\n",
    "result = model.fit()\n",
    "print(result.summary())"
   ]
  },
  {
   "cell_type": "code",
   "execution_count": 18,
   "metadata": {},
   "outputs": [
    {
     "name": "stdout",
     "output_type": "stream",
     "text": [
      "    VIF Factor    features\n",
      "0    63.357614       const\n",
      "1    11.109689      amount\n",
      "2     2.607227  amount_top\n",
      "3     2.088267   frequency\n",
      "4     8.507928      number\n",
      "5     1.446991    interval\n",
      "6     1.217906   last_time\n",
      "7     1.229995       level\n",
      "8     1.254590       price\n",
      "9     1.002653      gender\n",
      "10    1.007442         age\n"
     ]
    }
   ],
   "source": [
    "import pandas as pd\n",
    "# 计算VIF值\n",
    "vif = pd.DataFrame()\n",
    "vif[\"VIF Factor\"] = [variance_inflation_factor(X.values, i) for i in range(X.shape[1])]\n",
    "vif[\"features\"] = X.columns\n",
    "\n",
    "# 查看VIF值\n",
    "print(vif)"
   ]
  }
 ],
 "metadata": {
  "kernelspec": {
   "display_name": "Python 3",
   "language": "python",
   "name": "python3"
  },
  "language_info": {
   "codemirror_mode": {
    "name": "ipython",
    "version": 3
   },
   "file_extension": ".py",
   "mimetype": "text/x-python",
   "name": "python",
   "nbconvert_exporter": "python",
   "pygments_lexer": "ipython3",
   "version": "3.7.3"
  }
 },
 "nbformat": 4,
 "nbformat_minor": 2
}
