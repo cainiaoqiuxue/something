{
 "cells": [
  {
   "cell_type": "code",
   "execution_count": 1,
   "metadata": {},
   "outputs": [],
   "source": [
    "import os\n",
    "os.chdir('..')\n",
    "import re\n",
    "import pandas as pd\n",
    "import jieba\n",
    "from sklearn.feature_extraction.text import CountVectorizer, TfidfVectorizer\n",
    "from sklearn.decomposition import LatentDirichletAllocation\n",
    "import torch\n",
    "from transformers import AutoTokenizer, AutoModel, AutoModelForSequenceClassification\n",
    "import pandas as pd\n",
    "import torch\n",
    "from tqdm.auto import tqdm\n",
    "import matplotlib.pyplot as plt\n",
    "\n",
    "plt.rcParams['font.sans-serif'] = ['SimHei']\n",
    "plt.rcParams['axes.unicode_minus'] = False"
   ]
  },
  {
   "cell_type": "code",
   "execution_count": 2,
   "metadata": {},
   "outputs": [],
   "source": [
    "df = pd.read_csv('data/santai.csv')\n",
    "# df = df[~df['date'].str.contains('今天')]"
   ]
  },
  {
   "cell_type": "code",
   "execution_count": 3,
   "metadata": {},
   "outputs": [],
   "source": [
    "# tokenizer = AutoTokenizer.from_pretrained('lxyuan/distilbert-base-multilingual-cased-sentiments-student')\n",
    "# model = AutoModelForSequenceClassification.from_pretrained('lxyuan/distilbert-base-multilingual-cased-sentiments-student')\n",
    "\n",
    "# content = df['text'].tolist()\n",
    "# device = 'cuda' if torch.cuda.is_available() else 'cpu'\n",
    "# model.to(device)\n",
    "# print(device)\n",
    "\n",
    "# res = []\n",
    "# with torch.no_grad():\n",
    "#     for c in tqdm(content):\n",
    "#         inputs = tokenizer(c, return_tensors='pt')\n",
    "#         inputs = {k: v.to(device) for k, v in inputs.items()}\n",
    "#         res.append(model(**inputs).logits.cpu().argmax(dim=-1).item())\n",
    "        \n",
    "# df['情感倾向'] = res"
   ]
  },
  {
   "cell_type": "code",
   "execution_count": 4,
   "metadata": {},
   "outputs": [
    {
     "data": {
      "image/png": "[encoded data removed]",
      "text/plain": [
       "<Figure size 720x576 with 1 Axes>"
      ]
     },
     "metadata": {},
     "output_type": "display_data"
    }
   ],
   "source": [
    "def plot_sentiment(df):\n",
    "    data = df['情感倾向'].value_counts().to_dict()\n",
    "    sentiment_map = {\n",
    "        0: '正向情感',\n",
    "        1: '中立情感',\n",
    "        2: '负向情感',\n",
    "    }\n",
    "    values = data.values()\n",
    "    labels = [sentiment_map[i] for i in data.keys()]\n",
    "    plt.figure(figsize=(10, 8))\n",
    "    plt.pie(values, labels=labels, autopct='%1.1f%%', startangle=180)\n",
    "    plt.axis('equal')\n",
    "    plt.title('情感分析占比')\n",
    "    plt.legend()\n",
    "    plt.show()\n",
    "    \n",
    "plot_sentiment(df)"
   ]
  },
  {
   "cell_type": "code",
   "execution_count": 5,
   "metadata": {},
   "outputs": [],
   "source": [
    "def clean_data(text):\n",
    "    if not isinstance(text, str):\n",
    "        return \"\"\n",
    "    patterns = [\n",
    "        '[\\t\\n\\r\\f]',\n",
    "        '[a-zA-Z\\d]',\n",
    "        '[哈啊嘿]',\n",
    "        '@.*? ',\n",
    "        '#.*? ',\n",
    "        '#.*?$',\n",
    "        '(http|https|ftp)://((((25[0-5])|(2[0-4]\\d)|(1\\d{2})|([1-9]?\\d)\\.){3}((25[0-5])|(2[0-4]\\d)|(1\\d{2})|([1-9]?\\d)))|(([\\w-]+\\.)+(net|com|org|gov|edu|mil|info|travel|pro|museum|biz|[a-z]{2})))(/[\\w\\-~#]+)*(/[\\w-]+\\.[\\w]{2,4})?([\\?=&%_]?[\\w-]+)*',\n",
    "    ]\n",
    "    for pattern in patterns:\n",
    "        pattern = re.compile(pattern)\n",
    "        text = re.sub(pattern, ' ', text)\n",
    "    return text.lower()\n",
    "\n",
    "def split_text(text, stopwords):\n",
    "    text = jieba.lcut(text)\n",
    "    res = []\n",
    "    for word in text:\n",
    "        if len(word) > 1 and word not in stopwords:\n",
    "            res.append(word)\n",
    "    return res\n",
    "\n",
    "\n",
    "def topic_analysis(tokens, n_components, top_n):\n",
    "    contents = [' '.join(t) for t in tokens]\n",
    "    tfidf = TfidfVectorizer()\n",
    "    x = tfidf.fit_transform(contents)\n",
    "    model = LatentDirichletAllocation(n_components=n_components, random_state=42)\n",
    "    model.fit(x)\n",
    "    if hasattr(tfidf, 'get_feature_names_out'):\n",
    "        feature_names = tfidf.get_feature_names_out()\n",
    "    else:\n",
    "        feature_names = tfidf.get_feature_names()\n",
    "    rows = []\n",
    "    for topic in model.components_:\n",
    "        topwords = [feature_names[i] for i in topic.argsort()[: -top_n - 1:-1]]\n",
    "        rows.append(topwords)\n",
    "    return rows"
   ]
  },
  {
   "cell_type": "code",
   "execution_count": 6,
   "metadata": {},
   "outputs": [
    {
     "name": "stderr",
     "output_type": "stream",
     "text": [
      "Building prefix dict from the default dictionary ...\n",
      "Loading model from cache C:\\Users\\STUDYH~1\\AppData\\Local\\Temp\\jieba.cache\n",
      "Loading model cost 0.568 seconds.\n",
      "Prefix dict has been built succesfully.\n"
     ]
    }
   ],
   "source": [
    "with open('data/stopwords.txt', 'r', encoding='utf-8') as f:\n",
    "    stop_words = f.read().strip().split('\\n')\n",
    "\n",
    "stop_words.extend(['展开', '全文'])\n",
    "stop_words = set(stop_words)\n",
    "\n",
    "\n",
    "documents = df['text'].apply(clean_data)\n",
    "documents = documents.apply(split_text, args=(stop_words,))\n",
    "\n",
    "# documents = [i for j in documents.tolist() for i in j]"
   ]
  },
  {
   "cell_type": "code",
   "execution_count": 7,
   "metadata": {},
   "outputs": [
    {
     "data": {
      "text/plain": [
       "[['崩溃', '态度', '寒心', '令其', '三胎'],\n",
       " ['韩国', '我国', '性冷淡', '白开水', '碎石子'],\n",
       " ['新闻', '三年', '三胎', '干嘛', '连剖'],\n",
       " ['三胎', '年生', '人生', '好意思', '有限公司'],\n",
       " ['三胎', '四胎', '指标', '血战', '女孩'],\n",
       " ['天下父母', '柏和金', '上辈子', '冻死', '三胎'],\n",
       " ['三胎', '感觉', '加油', '奖励', '生活'],\n",
       " ['蜘蛛侠', '一套', '救救', '三胎', '虫虫'],\n",
       " ['儿子', '五年', '大佬', '奇才', '女人'],\n",
       " ['响应', '三胎', '政策', '女婴', '国家'],\n",
       " ['图片', '查看', '三胎', '科技', '试一试'],\n",
       " ['三胎', '网页', '链接', '气场', '碍国'],\n",
       " ['三胎', '毕业', '顾魏', '经营', '开放'],\n",
       " ['女士', '试管', '三胎', '移植', '成功'],\n",
       " ['三胎', '女权', '小长胎', '再生', '先给'],\n",
       " ['讨论', '回复', '月份', '难过', '太监'],\n",
       " ['万元', '三胎', '孩子', '有人', '二胎'],\n",
       " ['评论', '陈赫', '三胎', '配图', '频道'],\n",
       " ['三胎', '月经', '铃玲', '一年', '集美'],\n",
       " ['舞蹈', '老师', '孩子', '训练', '女士'],\n",
       " ['三胎', '孩子', '地狱', '二胎', '视频'],\n",
       " ['姐妹', '三胎', '产品', '豪克', '黑黑'],\n",
       " ['集美', '三胎', '职业', '光明', '团肖战'],\n",
       " ['三胎', '蔬菜', '出门', '玩家', '彩礼'],\n",
       " ['长势', '三胎', '争议', '日常', '双双'],\n",
       " ['宝妈', '三胎', '三个', '处女', '进过'],\n",
       " ['板凳', '睡觉', '洗衣服', '洗完', '凉水'],\n",
       " ['三胎', '想要', '要生', '堕胎', '欲望'],\n",
       " ['三胎', '我来', '鼓励', '祝福', '男性'],\n",
       " ['贺行', '况樱', '三胎', '试试', '二胎']]"
      ]
     },
     "execution_count": 7,
     "metadata": {},
     "output_type": "execute_result"
    }
   ],
   "source": [
    "topic_analysis(documents, 30, 5)"
   ]
  },
  {
   "cell_type": "code",
   "execution_count": 16,
   "metadata": {},
   "outputs": [
    {
     "data": {
      "text/plain": [
       "[['生育', '记忆', '孩子', '日本', '防脱'],\n",
       " ['连环计', '登记', '教材', '转基因', '生育'],\n",
       " ['感谢', '计划生育', '世纪', '日本', '美国'],\n",
       " ['生子', '生育', '单身', '锻炼', '公子'],\n",
       " ['生育', '顾云雪', '后遗症', '重视', '沈辞洲'],\n",
       " ['小说', '主角', '贺琛', '楚诗染', '生育'],\n",
       " ['生育', '大脑', '出手', '生育率', '代孕'],\n",
       " ['李某', '男方', '彩礼', '同居', '万元'],\n",
       " ['柔顺', '精油', '乳腺癌', '生育', '质地'],\n",
       " ['成果', '计划生育', '拖到', '当初', '卫生'],\n",
       " ['提升', '筷子', '干嘛', '不知', '生育'],\n",
       " ['简历', '网页', '链接', '人口', '实时'],\n",
       " ['情义', '丰县', '丈夫', '前女友', '法院'],\n",
       " ['娱乐圈', '指标', '算了', '高昊然', '国家'],\n",
       " ['美好', '孩子', '生育', '弟子', '保佑'],\n",
       " ['精油', '第二代', '护发', '生育', '欧莱雅'],\n",
       " ['感觉', '尼玛', '三胎', '美的', '沃趣'],\n",
       " ['员工', '补贴', '携程', '政策', '生育'],\n",
       " ['缺德', '别太', '生育能力', '行政', '管理'],\n",
       " ['韩国', '过程', '生育率', '孩子', '生育'],\n",
       " ['生育率', '提高', '育儿', '支持', '贡献'],\n",
       " ['生育', '四川', '新房', '购买', '达州市'],\n",
       " ['母亲', '说法', '称颂', '体面地', '总说'],\n",
       " ['夏然', '浅夏', '安然', '新闻网', '中国'],\n",
       " ['视频', '微博', '今日说法', '婚姻制度', '想到'],\n",
       " ['转发', '微博', '冬亚', '讲座', '生育'],\n",
       " ['修复', '超清小昕', '名存实亡', '傅寰', '黎鸢'],\n",
       " ['事件', '周期', '妈妈', '周内', '生育'],\n",
       " ['国家', '我要', '医保', '检测', '生育'],\n",
       " ['专项', '扣除', '标准', '附加', '婴幼儿']]"
      ]
     },
     "execution_count": 16,
     "metadata": {},
     "output_type": "execute_result"
    }
   ],
   "source": [
    "documents = df[df['情感倾向'] == 0]['text'].apply(clean_data)\n",
    "documents = documents.apply(split_text, args=(stop_words,))\n",
    "topic_analysis(documents, 30, 5)"
   ]
  },
  {
   "cell_type": "code",
   "execution_count": 17,
   "metadata": {},
   "outputs": [
    {
     "data": {
      "text/plain": [
       "[['女性', '地位', '避而', '社会', '不生'],\n",
       " ['词条', '讨论', '平安', '记录', '也许'],\n",
       " ['国外', '影响', '说话', '论文', '佩佩'],\n",
       " ['儿子', '王一博', '记忆', '男人', '确实'],\n",
       " ['大王', '巡山', '依旧', '复健', '多点'],\n",
       " ['结婚', '活着', '一窝', '更年期', '静静的'],\n",
       " ['理由', '孩子', '一点', '深圳', '轻判'],\n",
       " ['工具', '计生委', '回复', '生育', '日本'],\n",
       " ['姜兰枝', '钟泽川', '小说', '笔趣', '主角'],\n",
       " ['女性', '生育', '提倡', '尿道', '卵细胞'],\n",
       " ['解决方案', '应对', '性别', '人口', '男性'],\n",
       " ['小时', '喜悦', '闻霜', '冻卵', '繁衍'],\n",
       " ['卫生巾', '子宫', '职业赛', '还傲', '出题'],\n",
       " ['青春期', '方法', '子宫', '丁克', '本能'],\n",
       " ['缺德', '心茶', '清风', '功劳', '宇宙'],\n",
       " ['爱情', '自我', '父母', '师长', '将来'],\n",
       " ['违反', '超生', '技术', '为啥', '毛虫'],\n",
       " ['观点', '罢免', '子女', '分手', '总统'],\n",
       " ['年度', '三代', '试管', '孩子', '婚姻'],\n",
       " ['谢知州', '杨秀芸', '贺立维', '孟颖芝', '提高'],\n",
       " ['概念', '生育率', '假体', '死亡', '出人命'],\n",
       " ['举办', '讲座', '工作人员', '提升', '属实'],\n",
       " ['男性', '退休年龄', '福报', '女生', '感想'],\n",
       " ['来谈', '下头', '平等', '婚育', '跟上'],\n",
       " ['孩子', '不用', '一项', '反向', '工作'],\n",
       " ['生育率', '恐婚', '恐育', '本子', '着急'],\n",
       " ['拿来', '婚姻', '合作', '女人', '不愿生'],\n",
       " ['韩国', '欲望', '差异', '部门', '匹配'],\n",
       " ['繁殖', '孩子', '不蓝', '转不动', '生育'],\n",
       " ['生育', '四川', '专家', '登记', '非婚']]"
      ]
     },
     "execution_count": 17,
     "metadata": {},
     "output_type": "execute_result"
    }
   ],
   "source": [
    "documents = df[df['情感倾向'] == 1]['text'].apply(clean_data)\n",
    "documents = documents.apply(split_text, args=(stop_words,))\n",
    "topic_analysis(documents, 30, 5)"
   ]
  },
  {
   "cell_type": "code",
   "execution_count": 18,
   "metadata": {},
   "outputs": [
    {
     "data": {
      "text/plain": [
       "[['孩子', '生育', '沉重', '感受', '头衔'],\n",
       " ['赛博', '朋克', '下降', '商场', '垃圾'],\n",
       " ['侵犯', '丧失', '生育能力', '死亡威胁', '轮流'],\n",
       " ['生育', '生育率', '结婚', '禁止', '全国'],\n",
       " ['行业', '老公', '生育率', '不值钱', '生育'],\n",
       " ['生育', '堕胎', '女性', '老公', '风险'],\n",
       " ['挑拨', '打击', '无助', '喜欢', '单家独户'],\n",
       " ['上南大', '春晚', '很浓', '这破', '丰县'],\n",
       " ['孩子', '生育', '医生', '小王', '女人'],\n",
       " ['特征', '离谱', '生育', '失业', '生育率'],\n",
       " ['生育率', '新法', '新规', '生育', '事件'],\n",
       " ['卫生巾', '权在', '安妮', '罗洁', '女权'],\n",
       " ['生育', '女儿', '两个', '实施', '正式'],\n",
       " ['讲座', '生育', '贞洁', '举办', '生育权'],\n",
       " ['生育', '讨论', '网友', '遗产', '社会'],\n",
       " ['人民法庭', '周浦', '航头', '法官', '上海'],\n",
       " ['时节', '花开花落', '新闻频道', '广西', '生育'],\n",
       " ['发现自己', '生育能力', '生育', '铁链', '热点'],\n",
       " ['后遗症', '重视', '生育', '人类', '估计'],\n",
       " ['流狐婪', '逮人', '计划生育', '生育', '月子病'],\n",
       " ['生育率', '韩国', '下降', '原因', '太高'],\n",
       " ['价值', '生育', '孩子', '生育率', '打胎'],\n",
       " ['带薪', '两眼', '德国', '三十天', '法定标准'],\n",
       " ['生育', '纳入', '女性', '结婚', '选择'],\n",
       " ['不好', '孩子', '堕胎', '鲜红', '后背'],\n",
       " ['行天下', '面临', '师妹', '无情', '格格'],\n",
       " ['真实', '案例', '位多囊', '患者', '婚内'],\n",
       " ['人口', '狠狠', '没得', '女儿', '真的'],\n",
       " ['孩子', '根源', '生育', '女人', '鼓励'],\n",
       " ['生育', '结婚', '穷人', '尊严', '生育率']]"
      ]
     },
     "execution_count": 18,
     "metadata": {},
     "output_type": "execute_result"
    }
   ],
   "source": [
    "documents = df[df['情感倾向'] == 2]['text'].apply(clean_data)\n",
    "documents = documents.apply(split_text, args=(stop_words,))\n",
    "topic_analysis(documents, 30, 5)"
   ]
  },
  {
   "cell_type": "code",
   "execution_count": 16,
   "metadata": {},
   "outputs": [],
   "source": [
    "df['date'] = df['date'].apply(lambda x: x[:4] + x[5:7])"
   ]
  },
  {
   "cell_type": "code",
   "execution_count": null,
   "metadata": {},
   "outputs": [],
   "source": [
    "df.groupby('date').count()['text'].plot()"
   ]
  },
  {
   "cell_type": "code",
   "execution_count": null,
   "metadata": {},
   "outputs": [],
   "source": []
  }
 ],
 "metadata": {
  "kernelspec": {
   "display_name": "Python 3",
   "language": "python",
   "name": "python3"
  },
  "language_info": {
   "codemirror_mode": {
    "name": "ipython",
    "version": 3
   },
   "file_extension": ".py",
   "mimetype": "text/x-python",
   "name": "python",
   "nbconvert_exporter": "python",
   "pygments_lexer": "ipython3",
   "version": "3.7.3"
  }
 },
 "nbformat": 4,
 "nbformat_minor": 5
}
