{
 "cells": [
  {
   "cell_type": "code",
   "execution_count": 1,
   "metadata": {},
   "outputs": [],
   "source": [
    "import os\n",
    "import pandas as pd\n",
    "os.chdir('..')\n",
    "\n",
    "from src.main import sentiment_analysis, plot_sentiment, clean_data, split_text, topic_analysis, topic_show"
   ]
  },
  {
   "cell_type": "code",
   "execution_count": 2,
   "metadata": {},
   "outputs": [],
   "source": [
    "df = pd.read_csv('data/santai.csv')\n",
    "# df = sentiment_analysis(df)"
   ]
  },
  {
   "cell_type": "code",
   "execution_count": 3,
   "metadata": {},
   "outputs": [
    {
     "data": {
      "image/png": "[encoded data removed]",
      "text/plain": [
       "<Figure size 720x576 with 1 Axes>"
      ]
     },
     "metadata": {},
     "output_type": "display_data"
    }
   ],
   "source": [
    "plot_sentiment(df)"
   ]
  },
  {
   "cell_type": "code",
   "execution_count": 4,
   "metadata": {},
   "outputs": [],
   "source": [
    "with open('data/stopwords.txt', 'r', encoding='utf-8') as f:\n",
    "    stop_words = f.read().strip().split('\\n')\n",
    "\n",
    "stop_words.extend(['展开', '全文'])\n",
    "stop_words = set(stop_words)"
   ]
  },
  {
   "cell_type": "code",
   "execution_count": 5,
   "metadata": {},
   "outputs": [
    {
     "name": "stderr",
     "output_type": "stream",
     "text": [
      "Building prefix dict from the default dictionary ...\n",
      "Loading model from cache C:\\Users\\STUDYH~1\\AppData\\Local\\Temp\\jieba.cache\n",
      "Loading model cost 0.567 seconds.\n",
      "Prefix dict has been built succesfully.\n"
     ]
    },
    {
     "name": "stdout",
     "output_type": "stream",
     "text": [
      "总体 LDA主题分析关键词提取：\n",
      "主题 1: 崩溃 态度 寒心 令其 三胎\n",
      "主题 2: 韩国 我国 性冷淡 白开水 碎石子\n",
      "主题 3: 新闻 三年 三胎 干嘛 连剖\n",
      "主题 4: 三胎 年生 人生 好意思 有限公司\n",
      "主题 5: 三胎 四胎 指标 血战 女孩\n",
      "主题 6: 天下父母 柏和金 上辈子 冻死 三胎\n",
      "主题 7: 三胎 感觉 加油 奖励 生活\n",
      "主题 8: 蜘蛛侠 一套 救救 三胎 虫虫\n",
      "主题 9: 儿子 五年 大佬 奇才 女人\n",
      "主题 10: 响应 三胎 政策 女婴 国家\n",
      "主题 11: 图片 查看 三胎 科技 试一试\n",
      "主题 12: 三胎 网页 链接 气场 碍国\n",
      "主题 13: 三胎 毕业 顾魏 经营 开放\n",
      "主题 14: 女士 试管 三胎 移植 成功\n",
      "主题 15: 三胎 女权 小长胎 再生 先给\n",
      "主题 16: 讨论 回复 月份 难过 太监\n",
      "主题 17: 万元 三胎 孩子 有人 二胎\n",
      "主题 18: 评论 陈赫 三胎 配图 频道\n",
      "主题 19: 三胎 月经 铃玲 一年 集美\n",
      "主题 20: 舞蹈 老师 孩子 训练 女士\n",
      "主题 21: 三胎 孩子 地狱 二胎 视频\n",
      "主题 22: 姐妹 三胎 产品 豪克 黑黑\n",
      "主题 23: 集美 三胎 职业 光明 团肖战\n",
      "主题 24: 三胎 蔬菜 出门 玩家 彩礼\n",
      "主题 25: 长势 三胎 争议 日常 双双\n",
      "主题 26: 宝妈 三胎 三个 处女 进过\n",
      "主题 27: 板凳 睡觉 洗衣服 洗完 凉水\n",
      "主题 28: 三胎 想要 要生 堕胎 欲望\n",
      "主题 29: 三胎 我来 鼓励 祝福 男性\n",
      "主题 30: 贺行 况樱 三胎 试试 二胎\n"
     ]
    }
   ],
   "source": [
    "documents = df['text'].apply(clean_data)\n",
    "documents = documents.apply(split_text, args=(stop_words,))\n",
    "res = topic_analysis(documents, 30, 5)\n",
    "topic_show(res, '总体')"
   ]
  },
  {
   "cell_type": "code",
   "execution_count": 6,
   "metadata": {},
   "outputs": [
    {
     "name": "stdout",
     "output_type": "stream",
     "text": [
      "正向情感 LDA主题分析关键词提取：\n",
      "主题 1: 奖励 三胎 万元 想要 孩子\n",
      "主题 2: 蜘蛛侠 救救 一套 小长胎 三胎\n",
      "主题 3: 家庭 三胎 色变 谈性 提倡\n",
      "主题 4: 三胎 指标 萧炎 喜上加喜 捣药\n",
      "主题 5: 集美 三胎 张艺兴 中转站 周边\n",
      "主题 6: 三胎 亲爱 卧槽 浅转 牛乳\n",
      "主题 7: 有人 配图 评论 期待 三胎\n",
      "主题 8: 三胎 网页 链接 幸福 美美\n",
      "主题 9: 三胎 宝妈 耳朵 孩子 一年\n",
      "主题 10: 政策 响应 三胎 国家 积极响应\n",
      "主题 11: 微博 我要 三胎 求子 视频\n",
      "主题 12: 三胎 生二胎 蔬菜 玩家 出门\n",
      "主题 13: 北信源 日常 双性恋 微博 视频\n",
      "主题 14: 三胎 老公 送来 房贷 今晚\n",
      "主题 15: 真的 神仙 三胎 气场 老二\n",
      "主题 16: 姐妹 豪克 产品 三胎 叱咤\n",
      "主题 17: 三胎 医院 福建 家庭 广州\n",
      "主题 18: 连剖 三胎 没得 杠铃 孩子\n",
      "主题 19: 三胎 天下父母 柏和金 传下去 冻死\n",
      "主题 20: 三胎 微博 视频 女子 性別\n",
      "主题 21: 舞蹈 老师 孩子 女士 训练\n",
      "主题 22: 生活 三胎 尼玛 美的 感觉\n",
      "主题 23: 努力 三胎 生活 时代 海淀\n",
      "主题 24: 长势 沈诗仪 裴衍 三胎 昆凌\n",
      "主题 25: 铃玲 三胎 集美 查看 图片\n",
      "主题 26: 三胎 认同 感觉 孩子 生个\n",
      "主题 27: 小孩 两栖 水陆 三胎 一步\n",
      "主题 28: 公司 三胎 品客 薯片 研发\n",
      "主题 29: 顾魏 日期 团肖战 少年 三胎\n",
      "主题 30: 三胎 试一试 妈呀 快手 孩子\n"
     ]
    }
   ],
   "source": [
    "documents = df[df['情感倾向'] == 0]['text'].apply(clean_data)\n",
    "documents = documents.apply(split_text, args=(stop_words,))\n",
    "res = topic_analysis(documents, 30, 5)\n",
    "topic_show(res, '正向情感')"
   ]
  },
  {
   "cell_type": "code",
   "execution_count": 7,
   "metadata": {},
   "outputs": [
    {
     "name": "stdout",
     "output_type": "stream",
     "text": [
      "中立情感 LDA主题分析关键词提取：\n",
      "主题 1: 没话说 自由 妹妹 三胎 不像话\n",
      "主题 2: 招生 李女士 政策 结扎 大龄\n",
      "主题 3: 女儿 女网友 一女 一儿 三胎\n",
      "主题 4: 小段 十二岁 周岁 年龄 更会\n",
      "主题 5: 明晃晃 谈爱 谈性 名词 三胎\n",
      "主题 6: 体验 三胎 没来 姨妈 公务员\n",
      "主题 7: 三胎 备胎 龚俊 偶像剧 言承旭\n",
      "主题 8: 聊天 朋友 大熊 不救 万能\n",
      "主题 9: 感动 三个 世界 三胎 两个\n",
      "主题 10: 三年 三胎 不怕死 女人 学习\n",
      "主题 11: 成本 平均 迦叶 春节 九九\n",
      "主题 12: 李柱延 三胎 老冲 解释 色变\n",
      "主题 13: 别墅 评论 三观 明白 十八岁\n",
      "主题 14: 惨惨 女人 三胎 丁克 没用\n",
      "主题 15: 中国 生活 二月 发育 婴幼儿\n",
      "主题 16: 春晚 网络 三胎 小品 不刷\n",
      "主题 17: 自助餐 三胎 新能源 新闻 过日子\n",
      "主题 18: 连剖 三胎 女性 年代 摔倒\n",
      "主题 19: 胸罩 想生 清闲 管理 统计\n",
      "主题 20: 解决不了 偏离 潜台词 开车 三胎\n",
      "主题 21: 沉思 陷入 朴志 三胎 鼓励\n",
      "主题 22: 躺平 冷静 敢不敢 希望 小学生\n",
      "主题 23: 一说 三胎 巡演 不发 平衡\n",
      "主题 24: 况樱 贺行 小说 主角 生个\n",
      "主题 25: 辰菲 嫌多 我来 三胎 抓紧\n",
      "主题 26: 提倡 希望 看皇漫 不让 老公\n",
      "主题 27: 三胎 先给 小长胎 调生 再生\n",
      "主题 28: 胚胎 降生 人生 安安静静 徐子\n",
      "主题 29: 性冷淡 白开水 我国 日本 美德\n",
      "主题 30: 霍景川 白苒 五年 色变 前道侣\n"
     ]
    }
   ],
   "source": [
    "documents = df[df['情感倾向'] == 1]['text'].apply(clean_data)\n",
    "documents = documents.apply(split_text, args=(stop_words,))\n",
    "res = topic_analysis(documents, 30, 5)\n",
    "topic_show(res, '中立情感')"
   ]
  },
  {
   "cell_type": "code",
   "execution_count": 8,
   "metadata": {},
   "outputs": [
    {
     "name": "stdout",
     "output_type": "stream",
     "text": [
      "负向情感 LDA主题分析关键词提取：\n",
      "主题 1: 好会 说真的 三胎 主角 小说\n",
      "主题 2: 黑黑 残残 中国 三胎 祁夜\n",
      "主题 3: 三胎 月经 感觉 河粉 中国\n",
      "主题 4: 三胎 日常 争议 哥们 结婚\n",
      "主题 5: 蜘蛛侠 一套 救救 三胎 保罗\n",
      "主题 6: 沈澜 堕胎 贺霆舟 丁克 工厂\n",
      "主题 7: 三胎 男生 女儿 嫉妒 心疼\n",
      "主题 8: 讨论 月份 难过 太监 框架\n",
      "主题 9: 三胎 唐三彩 五千万 一年 堕胎\n",
      "主题 10: 家庭 回归 倾轧 擅长 外国人\n",
      "主题 11: 冻死 上辈子 柏和金 天下父母 三胎\n",
      "主题 12: 加油 目标 五条 战战 耳生\n",
      "主题 13: 三胎 地狱 不进 二十次 水米\n",
      "主题 14: 三胎 姐妹 产品 中转站 周边\n",
      "主题 15: 蒋胜 委员 三胎 女性 一胎\n",
      "主题 16: 三胎 不要命 这是 炫耀 剖完\n",
      "主题 17: 板凳 洗衣服 洗完 睡觉 凉水\n",
      "主题 18: 三胎 女权 等于 不生 一半\n",
      "主题 19: 儿子 大佬 奇才 五年 被迫\n",
      "主题 20: 女权 我者 等于 美式 性冷淡\n",
      "主题 21: 新闻 干嘛 没见 发出 三年\n",
      "主题 22: 微博 视频 崩溃 寒心 令其\n",
      "主题 23: 碍国 三胎 歧视 努力 开除\n",
      "主题 24: 二胎 三胎 孩子 视频 微博\n",
      "主题 25: 女婴 人口 遗弃 出生 接近\n",
      "主题 26: 有限公司 查看 图片 股份 三胎\n",
      "主题 27: 三胎 细菌 孩子 鼓励 生过\n",
      "主题 28: 连剖 堕胎 三胎 试管 真的\n",
      "主题 29: 女性 某音 评论 好奇 配图\n",
      "主题 30: 处女 进过 清纯 身份 宝妈\n"
     ]
    }
   ],
   "source": [
    "documents = df[df['情感倾向'] == 2]['text'].apply(clean_data)\n",
    "documents = documents.apply(split_text, args=(stop_words,))\n",
    "res = topic_analysis(documents, 30, 5)\n",
    "topic_show(res, '负向情感')"
   ]
  },
  {
   "cell_type": "code",
   "execution_count": null,
   "metadata": {},
   "outputs": [],
   "source": []
  },
  {
   "cell_type": "code",
   "execution_count": 9,
   "metadata": {},
   "outputs": [],
   "source": [
    "df = pd.read_csv('data/shengyu.csv')\n",
    "# df = sentiment_analysis(df)"
   ]
  },
  {
   "cell_type": "code",
   "execution_count": 10,
   "metadata": {},
   "outputs": [
    {
     "data": {
      "image/png": "[encoded data removed]",
      "text/plain": [
       "<Figure size 720x576 with 1 Axes>"
      ]
     },
     "metadata": {},
     "output_type": "display_data"
    }
   ],
   "source": [
    "plot_sentiment(df)"
   ]
  },
  {
   "cell_type": "code",
   "execution_count": 11,
   "metadata": {},
   "outputs": [
    {
     "name": "stdout",
     "output_type": "stream",
     "text": [
      "总体 LDA主题分析关键词提取：\n",
      "主题 1: 员工 生育 携程 孩子 补贴\n",
      "主题 2: 真实 案例 男方 位多囊 患者\n",
      "主题 3: 生育 孩子 婚姻制度 吸脂 女性\n",
      "主题 4: 生育率 提高 确实 育儿 支持\n",
      "主题 5: 亲子鉴定 生育 冬亚 友好 各类\n",
      "主题 6: 生育 人口 没得 老公 佩佩\n",
      "主题 7: 春晚 上南大 这破 很浓 丰县\n",
      "主题 8: 扣除 专项 附加 婴幼儿 标准\n",
      "主题 9: 美好 生子 生育 精油 美国\n",
      "主题 10: 生育 权利 孩子 堕胎 女性\n",
      "主题 11: 侵犯 丧失 死亡威胁 录音 张紫妍\n",
      "主题 12: 网页 链接 简历 小说 主角\n",
      "主题 13: 生育 讲座 感觉 小不忍则乱大谋 一种\n",
      "主题 14: 别太 缺德 生育能力 后遗症 逮人\n",
      "主题 15: 感谢 世纪 日本 计划生育 法官\n",
      "主题 16: 女性 女士 生育 试管 孩子\n",
      "主题 17: 不好 生育 顾云雪 陈某 围观\n",
      "主题 18: 特征 母亲 生育 说法 总说\n",
      "主题 19: 人口 生育 女性 生育率 黎鸢\n",
      "主题 20: 生育 薄明 白苓 提升 生育率\n",
      "主题 21: 卫生巾 承担 女性 成本 生育\n",
      "主题 22: 生育 视频 保险 委员 周内\n",
      "主题 23: 视频 微博 生育 今日说法 建议\n",
      "主题 24: 生育 妇女 师范大学 民族 陕西\n",
      "主题 25: 带薪 两眼 德国 过年 三十天\n",
      "主题 26: 娱乐圈 指标 算了 高昊然 国家\n",
      "主题 27: 博主 分享 锻炼 公子 乐观\n",
      "主题 28: 生育 月子病 女性 三胎 贞洁\n",
      "主题 29: 孩子 生育率 转发 韩国 微博\n",
      "主题 30: 生育 女性 年龄 孩子 最佳\n"
     ]
    }
   ],
   "source": [
    "documents = df['text'].apply(clean_data)\n",
    "documents = documents.apply(split_text, args=(stop_words,))\n",
    "res = topic_analysis(documents, 30, 5)\n",
    "topic_show(res, '总体')"
   ]
  },
  {
   "cell_type": "code",
   "execution_count": 12,
   "metadata": {},
   "outputs": [
    {
     "name": "stdout",
     "output_type": "stream",
     "text": [
      "正向情感 LDA主题分析关键词提取：\n",
      "主题 1: 生育 记忆 孩子 日本 防脱\n",
      "主题 2: 连环计 登记 教材 转基因 生育\n",
      "主题 3: 感谢 计划生育 世纪 日本 美国\n",
      "主题 4: 生子 生育 单身 锻炼 公子\n",
      "主题 5: 生育 顾云雪 后遗症 重视 沈辞洲\n",
      "主题 6: 小说 主角 贺琛 楚诗染 生育\n",
      "主题 7: 生育 大脑 出手 生育率 代孕\n",
      "主题 8: 李某 男方 彩礼 同居 万元\n",
      "主题 9: 柔顺 精油 乳腺癌 生育 质地\n",
      "主题 10: 成果 计划生育 拖到 当初 卫生\n",
      "主题 11: 提升 筷子 干嘛 不知 生育\n",
      "主题 12: 简历 网页 链接 人口 实时\n",
      "主题 13: 情义 丰县 丈夫 前女友 法院\n",
      "主题 14: 娱乐圈 指标 算了 高昊然 国家\n",
      "主题 15: 美好 孩子 生育 弟子 保佑\n",
      "主题 16: 精油 第二代 护发 生育 欧莱雅\n",
      "主题 17: 感觉 尼玛 三胎 美的 沃趣\n",
      "主题 18: 员工 补贴 携程 政策 生育\n",
      "主题 19: 缺德 别太 生育能力 行政 管理\n",
      "主题 20: 韩国 过程 生育率 孩子 生育\n",
      "主题 21: 生育率 提高 育儿 支持 贡献\n",
      "主题 22: 生育 四川 新房 购买 达州市\n",
      "主题 23: 母亲 说法 称颂 体面地 总说\n",
      "主题 24: 夏然 浅夏 安然 新闻网 中国\n",
      "主题 25: 视频 微博 今日说法 婚姻制度 想到\n",
      "主题 26: 转发 微博 冬亚 讲座 生育\n",
      "主题 27: 修复 超清小昕 名存实亡 傅寰 黎鸢\n",
      "主题 28: 事件 周期 妈妈 周内 生育\n",
      "主题 29: 国家 我要 医保 检测 生育\n",
      "主题 30: 专项 扣除 标准 附加 婴幼儿\n"
     ]
    }
   ],
   "source": [
    "documents = df[df['情感倾向'] == 0]['text'].apply(clean_data)\n",
    "documents = documents.apply(split_text, args=(stop_words,))\n",
    "res = topic_analysis(documents, 30, 5)\n",
    "topic_show(res, '正向情感')"
   ]
  },
  {
   "cell_type": "code",
   "execution_count": 13,
   "metadata": {},
   "outputs": [
    {
     "name": "stdout",
     "output_type": "stream",
     "text": [
      "中立情感 LDA主题分析关键词提取：\n",
      "主题 1: 女性 地位 避而 社会 不生\n",
      "主题 2: 词条 讨论 平安 记录 也许\n",
      "主题 3: 国外 影响 说话 论文 佩佩\n",
      "主题 4: 儿子 王一博 记忆 男人 确实\n",
      "主题 5: 大王 巡山 依旧 复健 多点\n",
      "主题 6: 结婚 活着 一窝 更年期 静静的\n",
      "主题 7: 理由 孩子 一点 深圳 轻判\n",
      "主题 8: 工具 计生委 回复 生育 日本\n",
      "主题 9: 姜兰枝 钟泽川 小说 笔趣 主角\n",
      "主题 10: 女性 生育 提倡 尿道 卵细胞\n",
      "主题 11: 解决方案 应对 性别 人口 男性\n",
      "主题 12: 小时 喜悦 闻霜 冻卵 繁衍\n",
      "主题 13: 卫生巾 子宫 职业赛 还傲 出题\n",
      "主题 14: 青春期 方法 子宫 丁克 本能\n",
      "主题 15: 缺德 心茶 清风 功劳 宇宙\n",
      "主题 16: 爱情 自我 父母 师长 将来\n",
      "主题 17: 违反 超生 技术 为啥 毛虫\n",
      "主题 18: 观点 罢免 子女 分手 总统\n",
      "主题 19: 年度 三代 试管 孩子 婚姻\n",
      "主题 20: 谢知州 杨秀芸 贺立维 孟颖芝 提高\n",
      "主题 21: 概念 生育率 假体 死亡 出人命\n",
      "主题 22: 举办 讲座 工作人员 提升 属实\n",
      "主题 23: 男性 退休年龄 福报 女生 感想\n",
      "主题 24: 来谈 下头 平等 婚育 跟上\n",
      "主题 25: 孩子 不用 一项 反向 工作\n",
      "主题 26: 生育率 恐婚 恐育 本子 着急\n",
      "主题 27: 拿来 婚姻 合作 女人 不愿生\n",
      "主题 28: 韩国 欲望 差异 部门 匹配\n",
      "主题 29: 繁殖 孩子 不蓝 转不动 生育\n",
      "主题 30: 生育 四川 专家 登记 非婚\n"
     ]
    }
   ],
   "source": [
    "documents = df[df['情感倾向'] == 1]['text'].apply(clean_data)\n",
    "documents = documents.apply(split_text, args=(stop_words,))\n",
    "res = topic_analysis(documents, 30, 5)\n",
    "topic_show(res, '中立情感')"
   ]
  },
  {
   "cell_type": "code",
   "execution_count": 14,
   "metadata": {},
   "outputs": [
    {
     "name": "stdout",
     "output_type": "stream",
     "text": [
      "负向情感 LDA主题分析关键词提取：\n",
      "主题 1: 孩子 生育 沉重 感受 头衔\n",
      "主题 2: 赛博 朋克 下降 商场 垃圾\n",
      "主题 3: 侵犯 丧失 生育能力 死亡威胁 轮流\n",
      "主题 4: 生育 生育率 结婚 禁止 全国\n",
      "主题 5: 行业 老公 生育率 不值钱 生育\n",
      "主题 6: 生育 堕胎 女性 老公 风险\n",
      "主题 7: 挑拨 打击 无助 喜欢 单家独户\n",
      "主题 8: 上南大 春晚 很浓 这破 丰县\n",
      "主题 9: 孩子 生育 医生 小王 女人\n",
      "主题 10: 特征 离谱 生育 失业 生育率\n",
      "主题 11: 生育率 新法 新规 生育 事件\n",
      "主题 12: 卫生巾 权在 安妮 罗洁 女权\n",
      "主题 13: 生育 女儿 两个 实施 正式\n",
      "主题 14: 讲座 生育 贞洁 举办 生育权\n",
      "主题 15: 生育 讨论 网友 遗产 社会\n",
      "主题 16: 人民法庭 周浦 航头 法官 上海\n",
      "主题 17: 时节 花开花落 新闻频道 广西 生育\n",
      "主题 18: 发现自己 生育能力 生育 铁链 热点\n",
      "主题 19: 后遗症 重视 生育 人类 估计\n",
      "主题 20: 流狐婪 逮人 计划生育 生育 月子病\n",
      "主题 21: 生育率 韩国 下降 原因 太高\n",
      "主题 22: 价值 生育 孩子 生育率 打胎\n",
      "主题 23: 带薪 两眼 德国 三十天 法定标准\n",
      "主题 24: 生育 纳入 女性 结婚 选择\n",
      "主题 25: 不好 孩子 堕胎 鲜红 后背\n",
      "主题 26: 行天下 面临 师妹 无情 格格\n",
      "主题 27: 真实 案例 位多囊 患者 婚内\n",
      "主题 28: 人口 狠狠 没得 女儿 真的\n",
      "主题 29: 孩子 根源 生育 女人 鼓励\n",
      "主题 30: 生育 结婚 穷人 尊严 生育率\n"
     ]
    }
   ],
   "source": [
    "documents = df[df['情感倾向'] == 2]['text'].apply(clean_data)\n",
    "documents = documents.apply(split_text, args=(stop_words,))\n",
    "res = topic_analysis(documents, 30, 5)\n",
    "topic_show(res, '负向情感')"
   ]
  },
  {
   "cell_type": "code",
   "execution_count": null,
   "metadata": {},
   "outputs": [],
   "source": []
  }
 ],
 "metadata": {
  "kernelspec": {
   "display_name": "Python 3",
   "language": "python",
   "name": "python3"
  },
  "language_info": {
   "codemirror_mode": {
    "name": "ipython",
    "version": 3
   },
   "file_extension": ".py",
   "mimetype": "text/x-python",
   "name": "python",
   "nbconvert_exporter": "python",
   "pygments_lexer": "ipython3",
   "version": "3.7.3"
  }
 },
 "nbformat": 4,
 "nbformat_minor": 2
}
